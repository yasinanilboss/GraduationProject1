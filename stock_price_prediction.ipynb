{
  "nbformat": 4,
  "nbformat_minor": 0,
  "metadata": {
    "colab": {
      "name": "stock_price_prediction - Copy (2).ipynb",
      "provenance": [],
      "collapsed_sections": []
    },
    "kernelspec": {
      "name": "python3",
      "display_name": "Python 3"
    },
    "language_info": {
      "name": "python"
    }
  },
  "cells": [
    {
      "cell_type": "code",
      "metadata": {
        "id": "C5YkYu-MQI89"
      },
      "source": [
        "# This work uses RNN called LSTM to predict the closing price of the companies. "
      ],
      "execution_count": null,
      "outputs": []
    },
    {
      "cell_type": "code",
      "metadata": {
        "colab": {
          "base_uri": "https://localhost:8080/"
        },
        "id": "6I_y_n8LwC0d",
        "outputId": "b6711117-156a-449f-fa3e-c366d1dc65cf"
      },
      "source": [
        "#Install yfinance library\n",
        "!pip install yfinance\n"
      ],
      "execution_count": null,
      "outputs": [
        {
          "output_type": "stream",
          "name": "stdout",
          "text": [
            "Requirement already satisfied: yfinance in /usr/local/lib/python3.7/dist-packages (0.1.69)\n",
            "Requirement already satisfied: requests>=2.26 in /usr/local/lib/python3.7/dist-packages (from yfinance) (2.27.1)\n",
            "Requirement already satisfied: multitasking>=0.0.7 in /usr/local/lib/python3.7/dist-packages (from yfinance) (0.0.10)\n",
            "Requirement already satisfied: numpy>=1.15 in /usr/local/lib/python3.7/dist-packages (from yfinance) (1.19.5)\n",
            "Requirement already satisfied: lxml>=4.5.1 in /usr/local/lib/python3.7/dist-packages (from yfinance) (4.7.1)\n",
            "Requirement already satisfied: pandas>=0.24 in /usr/local/lib/python3.7/dist-packages (from yfinance) (1.1.5)\n",
            "Requirement already satisfied: python-dateutil>=2.7.3 in /usr/local/lib/python3.7/dist-packages (from pandas>=0.24->yfinance) (2.8.2)\n",
            "Requirement already satisfied: pytz>=2017.2 in /usr/local/lib/python3.7/dist-packages (from pandas>=0.24->yfinance) (2018.9)\n",
            "Requirement already satisfied: six>=1.5 in /usr/local/lib/python3.7/dist-packages (from python-dateutil>=2.7.3->pandas>=0.24->yfinance) (1.15.0)\n",
            "Requirement already satisfied: certifi>=2017.4.17 in /usr/local/lib/python3.7/dist-packages (from requests>=2.26->yfinance) (2021.10.8)\n",
            "Requirement already satisfied: urllib3<1.27,>=1.21.1 in /usr/local/lib/python3.7/dist-packages (from requests>=2.26->yfinance) (1.24.3)\n",
            "Requirement already satisfied: charset-normalizer~=2.0.0 in /usr/local/lib/python3.7/dist-packages (from requests>=2.26->yfinance) (2.0.10)\n",
            "Requirement already satisfied: idna<4,>=2.5 in /usr/local/lib/python3.7/dist-packages (from requests>=2.26->yfinance) (2.10)\n"
          ]
        }
      ]
    },
    {
      "cell_type": "code",
      "metadata": {
        "id": "dTPS7aNVbuJ8"
      },
      "source": [
        "#Import needed libraries\n",
        "import math \n",
        "import pandas_datareader as web\n",
        "import numpy as np\n",
        "import pandas as pd\n",
        "from sklearn.preprocessing import MinMaxScaler\n",
        "from keras.models import Sequential\n",
        "from keras.layers import Dense, LSTM\n",
        "import matplotlib.pyplot as plt\n",
        "import time\n",
        "import datetime\n",
        "import yfinance as yf\n",
        "import csv\n",
        "import plotly.graph_objects as go\n",
        "from plotly.subplots import make_subplots"
      ],
      "execution_count": null,
      "outputs": []
    },
    {
      "cell_type": "code",
      "metadata": {
        "colab": {
          "base_uri": "https://localhost:8080/",
          "height": 423
        },
        "id": "KLF5i-Oe1H6Q",
        "outputId": "05d8c7e9-d3d6-4604-dfe5-cd249e00a290"
      },
      "source": [
        "#Get the stock datas\n",
        "url = 'https://raw.githubusercontent.com/plotly/datasets/master/finance-charts-apple.csv'\n",
        "df = pd.read_csv(url)\n",
        "\n",
        "df = df.set_index(pd.DatetimeIndex(df['Date'].values))\n",
        "#Show the data\n",
        "df"
      ],
      "execution_count": null,
      "outputs": [
        {
          "output_type": "execute_result",
          "data": {
            "text/html": [
              "\n",
              "  <div id=\"df-350f4209-5234-480a-815d-5caa946f9782\">\n",
              "    <div class=\"colab-df-container\">\n",
              "      <div>\n",
              "<style scoped>\n",
              "    .dataframe tbody tr th:only-of-type {\n",
              "        vertical-align: middle;\n",
              "    }\n",
              "\n",
              "    .dataframe tbody tr th {\n",
              "        vertical-align: top;\n",
              "    }\n",
              "\n",
              "    .dataframe thead th {\n",
              "        text-align: right;\n",
              "    }\n",
              "</style>\n",
              "<table border=\"1\" class=\"dataframe\">\n",
              "  <thead>\n",
              "    <tr style=\"text-align: right;\">\n",
              "      <th></th>\n",
              "      <th>Date</th>\n",
              "      <th>AAPL.Open</th>\n",
              "      <th>AAPL.High</th>\n",
              "      <th>AAPL.Low</th>\n",
              "      <th>AAPL.Close</th>\n",
              "      <th>AAPL.Volume</th>\n",
              "      <th>AAPL.Adjusted</th>\n",
              "      <th>dn</th>\n",
              "      <th>mavg</th>\n",
              "      <th>up</th>\n",
              "      <th>direction</th>\n",
              "    </tr>\n",
              "  </thead>\n",
              "  <tbody>\n",
              "    <tr>\n",
              "      <th>2015-02-17</th>\n",
              "      <td>2015-02-17</td>\n",
              "      <td>127.489998</td>\n",
              "      <td>128.880005</td>\n",
              "      <td>126.919998</td>\n",
              "      <td>127.830002</td>\n",
              "      <td>63152400</td>\n",
              "      <td>122.905254</td>\n",
              "      <td>106.741052</td>\n",
              "      <td>117.927667</td>\n",
              "      <td>129.114281</td>\n",
              "      <td>Increasing</td>\n",
              "    </tr>\n",
              "    <tr>\n",
              "      <th>2015-02-18</th>\n",
              "      <td>2015-02-18</td>\n",
              "      <td>127.629997</td>\n",
              "      <td>128.779999</td>\n",
              "      <td>127.449997</td>\n",
              "      <td>128.720001</td>\n",
              "      <td>44891700</td>\n",
              "      <td>123.760965</td>\n",
              "      <td>107.842423</td>\n",
              "      <td>118.940333</td>\n",
              "      <td>130.038244</td>\n",
              "      <td>Increasing</td>\n",
              "    </tr>\n",
              "    <tr>\n",
              "      <th>2015-02-19</th>\n",
              "      <td>2015-02-19</td>\n",
              "      <td>128.479996</td>\n",
              "      <td>129.029999</td>\n",
              "      <td>128.330002</td>\n",
              "      <td>128.449997</td>\n",
              "      <td>37362400</td>\n",
              "      <td>123.501363</td>\n",
              "      <td>108.894245</td>\n",
              "      <td>119.889167</td>\n",
              "      <td>130.884089</td>\n",
              "      <td>Decreasing</td>\n",
              "    </tr>\n",
              "    <tr>\n",
              "      <th>2015-02-20</th>\n",
              "      <td>2015-02-20</td>\n",
              "      <td>128.619995</td>\n",
              "      <td>129.500000</td>\n",
              "      <td>128.050003</td>\n",
              "      <td>129.500000</td>\n",
              "      <td>48948400</td>\n",
              "      <td>124.510914</td>\n",
              "      <td>109.785449</td>\n",
              "      <td>120.763500</td>\n",
              "      <td>131.741551</td>\n",
              "      <td>Increasing</td>\n",
              "    </tr>\n",
              "    <tr>\n",
              "      <th>2015-02-23</th>\n",
              "      <td>2015-02-23</td>\n",
              "      <td>130.020004</td>\n",
              "      <td>133.000000</td>\n",
              "      <td>129.660004</td>\n",
              "      <td>133.000000</td>\n",
              "      <td>70974100</td>\n",
              "      <td>127.876074</td>\n",
              "      <td>110.372516</td>\n",
              "      <td>121.720167</td>\n",
              "      <td>133.067817</td>\n",
              "      <td>Increasing</td>\n",
              "    </tr>\n",
              "    <tr>\n",
              "      <th>...</th>\n",
              "      <td>...</td>\n",
              "      <td>...</td>\n",
              "      <td>...</td>\n",
              "      <td>...</td>\n",
              "      <td>...</td>\n",
              "      <td>...</td>\n",
              "      <td>...</td>\n",
              "      <td>...</td>\n",
              "      <td>...</td>\n",
              "      <td>...</td>\n",
              "      <td>...</td>\n",
              "    </tr>\n",
              "    <tr>\n",
              "      <th>2017-02-10</th>\n",
              "      <td>2017-02-10</td>\n",
              "      <td>132.460007</td>\n",
              "      <td>132.940002</td>\n",
              "      <td>132.050003</td>\n",
              "      <td>132.119995</td>\n",
              "      <td>20065500</td>\n",
              "      <td>132.119995</td>\n",
              "      <td>114.494004</td>\n",
              "      <td>124.498666</td>\n",
              "      <td>134.503328</td>\n",
              "      <td>Decreasing</td>\n",
              "    </tr>\n",
              "    <tr>\n",
              "      <th>2017-02-13</th>\n",
              "      <td>2017-02-13</td>\n",
              "      <td>133.080002</td>\n",
              "      <td>133.820007</td>\n",
              "      <td>132.750000</td>\n",
              "      <td>133.289993</td>\n",
              "      <td>23035400</td>\n",
              "      <td>133.289993</td>\n",
              "      <td>114.820798</td>\n",
              "      <td>125.205166</td>\n",
              "      <td>135.589534</td>\n",
              "      <td>Increasing</td>\n",
              "    </tr>\n",
              "    <tr>\n",
              "      <th>2017-02-14</th>\n",
              "      <td>2017-02-14</td>\n",
              "      <td>133.470001</td>\n",
              "      <td>135.089996</td>\n",
              "      <td>133.250000</td>\n",
              "      <td>135.020004</td>\n",
              "      <td>32815500</td>\n",
              "      <td>135.020004</td>\n",
              "      <td>115.175718</td>\n",
              "      <td>125.953499</td>\n",
              "      <td>136.731280</td>\n",
              "      <td>Increasing</td>\n",
              "    </tr>\n",
              "    <tr>\n",
              "      <th>2017-02-15</th>\n",
              "      <td>2017-02-15</td>\n",
              "      <td>135.520004</td>\n",
              "      <td>136.270004</td>\n",
              "      <td>134.619995</td>\n",
              "      <td>135.509995</td>\n",
              "      <td>35501600</td>\n",
              "      <td>135.509995</td>\n",
              "      <td>115.545035</td>\n",
              "      <td>126.723499</td>\n",
              "      <td>137.901963</td>\n",
              "      <td>Decreasing</td>\n",
              "    </tr>\n",
              "    <tr>\n",
              "      <th>2017-02-16</th>\n",
              "      <td>2017-02-16</td>\n",
              "      <td>135.669998</td>\n",
              "      <td>135.899994</td>\n",
              "      <td>134.839996</td>\n",
              "      <td>135.350006</td>\n",
              "      <td>22118000</td>\n",
              "      <td>135.350006</td>\n",
              "      <td>116.203299</td>\n",
              "      <td>127.504332</td>\n",
              "      <td>138.805366</td>\n",
              "      <td>Decreasing</td>\n",
              "    </tr>\n",
              "  </tbody>\n",
              "</table>\n",
              "<p>506 rows × 11 columns</p>\n",
              "</div>\n",
              "      <button class=\"colab-df-convert\" onclick=\"convertToInteractive('df-350f4209-5234-480a-815d-5caa946f9782')\"\n",
              "              title=\"Convert this dataframe to an interactive table.\"\n",
              "              style=\"display:none;\">\n",
              "        \n",
              "  <svg xmlns=\"http://www.w3.org/2000/svg\" height=\"24px\"viewBox=\"0 0 24 24\"\n",
              "       width=\"24px\">\n",
              "    <path d=\"M0 0h24v24H0V0z\" fill=\"none\"/>\n",
              "    <path d=\"M18.56 5.44l.94 2.06.94-2.06 2.06-.94-2.06-.94-.94-2.06-.94 2.06-2.06.94zm-11 1L8.5 8.5l.94-2.06 2.06-.94-2.06-.94L8.5 2.5l-.94 2.06-2.06.94zm10 10l.94 2.06.94-2.06 2.06-.94-2.06-.94-.94-2.06-.94 2.06-2.06.94z\"/><path d=\"M17.41 7.96l-1.37-1.37c-.4-.4-.92-.59-1.43-.59-.52 0-1.04.2-1.43.59L10.3 9.45l-7.72 7.72c-.78.78-.78 2.05 0 2.83L4 21.41c.39.39.9.59 1.41.59.51 0 1.02-.2 1.41-.59l7.78-7.78 2.81-2.81c.8-.78.8-2.07 0-2.86zM5.41 20L4 18.59l7.72-7.72 1.47 1.35L5.41 20z\"/>\n",
              "  </svg>\n",
              "      </button>\n",
              "      \n",
              "  <style>\n",
              "    .colab-df-container {\n",
              "      display:flex;\n",
              "      flex-wrap:wrap;\n",
              "      gap: 12px;\n",
              "    }\n",
              "\n",
              "    .colab-df-convert {\n",
              "      background-color: #E8F0FE;\n",
              "      border: none;\n",
              "      border-radius: 50%;\n",
              "      cursor: pointer;\n",
              "      display: none;\n",
              "      fill: #1967D2;\n",
              "      height: 32px;\n",
              "      padding: 0 0 0 0;\n",
              "      width: 32px;\n",
              "    }\n",
              "\n",
              "    .colab-df-convert:hover {\n",
              "      background-color: #E2EBFA;\n",
              "      box-shadow: 0px 1px 2px rgba(60, 64, 67, 0.3), 0px 1px 3px 1px rgba(60, 64, 67, 0.15);\n",
              "      fill: #174EA6;\n",
              "    }\n",
              "\n",
              "    [theme=dark] .colab-df-convert {\n",
              "      background-color: #3B4455;\n",
              "      fill: #D2E3FC;\n",
              "    }\n",
              "\n",
              "    [theme=dark] .colab-df-convert:hover {\n",
              "      background-color: #434B5C;\n",
              "      box-shadow: 0px 1px 3px 1px rgba(0, 0, 0, 0.15);\n",
              "      filter: drop-shadow(0px 1px 2px rgba(0, 0, 0, 0.3));\n",
              "      fill: #FFFFFF;\n",
              "    }\n",
              "  </style>\n",
              "\n",
              "      <script>\n",
              "        const buttonEl =\n",
              "          document.querySelector('#df-350f4209-5234-480a-815d-5caa946f9782 button.colab-df-convert');\n",
              "        buttonEl.style.display =\n",
              "          google.colab.kernel.accessAllowed ? 'block' : 'none';\n",
              "\n",
              "        async function convertToInteractive(key) {\n",
              "          const element = document.querySelector('#df-350f4209-5234-480a-815d-5caa946f9782');\n",
              "          const dataTable =\n",
              "            await google.colab.kernel.invokeFunction('convertToInteractive',\n",
              "                                                     [key], {});\n",
              "          if (!dataTable) return;\n",
              "\n",
              "          const docLinkHtml = 'Like what you see? Visit the ' +\n",
              "            '<a target=\"_blank\" href=https://colab.research.google.com/notebooks/data_table.ipynb>data table notebook</a>'\n",
              "            + ' to learn more about interactive tables.';\n",
              "          element.innerHTML = '';\n",
              "          dataTable['output_type'] = 'display_data';\n",
              "          await google.colab.output.renderOutput(dataTable, element);\n",
              "          const docLink = document.createElement('div');\n",
              "          docLink.innerHTML = docLinkHtml;\n",
              "          element.appendChild(docLink);\n",
              "        }\n",
              "      </script>\n",
              "    </div>\n",
              "  </div>\n",
              "  "
            ],
            "text/plain": [
              "                  Date   AAPL.Open  ...          up   direction\n",
              "2015-02-17  2015-02-17  127.489998  ...  129.114281  Increasing\n",
              "2015-02-18  2015-02-18  127.629997  ...  130.038244  Increasing\n",
              "2015-02-19  2015-02-19  128.479996  ...  130.884089  Decreasing\n",
              "2015-02-20  2015-02-20  128.619995  ...  131.741551  Increasing\n",
              "2015-02-23  2015-02-23  130.020004  ...  133.067817  Increasing\n",
              "...                ...         ...  ...         ...         ...\n",
              "2017-02-10  2017-02-10  132.460007  ...  134.503328  Decreasing\n",
              "2017-02-13  2017-02-13  133.080002  ...  135.589534  Increasing\n",
              "2017-02-14  2017-02-14  133.470001  ...  136.731280  Increasing\n",
              "2017-02-15  2017-02-15  135.520004  ...  137.901963  Decreasing\n",
              "2017-02-16  2017-02-16  135.669998  ...  138.805366  Decreasing\n",
              "\n",
              "[506 rows x 11 columns]"
            ]
          },
          "metadata": {},
          "execution_count": 88
        }
      ]
    },
    {
      "cell_type": "code",
      "metadata": {
        "colab": {
          "base_uri": "https://localhost:8080/"
        },
        "id": "-kUUxB449zJk",
        "outputId": "74ad3be0-05d8-45e1-9b31-85fdac0166e8"
      },
      "source": [
        "#Get the number of columns and rows in the dataset\n",
        "df.shape"
      ],
      "execution_count": null,
      "outputs": [
        {
          "output_type": "execute_result",
          "data": {
            "text/plain": [
              "(506, 11)"
            ]
          },
          "metadata": {},
          "execution_count": 89
        }
      ]
    },
    {
      "cell_type": "code",
      "metadata": {
        "id": "BDy1nvvM7BLy"
      },
      "source": [
        "#Visualize the closing price history \n",
        "fig = go.Figure(\n",
        "    data =\n",
        "    [\n",
        "     go.Candlestick(\n",
        "         x=df.index,\n",
        "         open=df['AAPL.Open'],\n",
        "         high=df['AAPL.High'],\n",
        "         low=df['AAPL.Low'],\n",
        "         close=df['AAPL.Close']\n",
        "         )])\n",
        "\n",
        "fig.update_layout(xaxis_rangeslider_visible = False,\n",
        "                  template = 'plotly_dark',\n",
        "                  title = 'Apple Price',\n",
        "                  yaxis_title = 'Apple Stock Price USD ($)',\n",
        "                  xaxis_title = 'Date')\n",
        "fig.update_yaxes(type='log')\n",
        "\n",
        "fig.show()\n",
        "#Visualize the closing price history with the candlestick patterns"
      ],
      "execution_count": null,
      "outputs": []
    },
    {
      "cell_type": "code",
      "metadata": {
        "colab": {
          "base_uri": "https://localhost:8080/"
        },
        "id": "JlaUADO2_MlG",
        "outputId": "4984d725-36da-401c-d1ce-af324604df44"
      },
      "source": [
        "#Create a new dataframe with only the Closing Prices column\n",
        "dt = df.filter(['AAPL.Close'])\n",
        "#Convert the dataframe to numpy array\n",
        "dataset = dt.values\n",
        "#Get the number of rows to train the LSTM model on\n",
        "training_data_length = math.ceil(len(dataset) * .8)\n",
        "\n",
        "training_data_length"
      ],
      "execution_count": null,
      "outputs": [
        {
          "output_type": "execute_result",
          "data": {
            "text/plain": [
              "405"
            ]
          },
          "metadata": {},
          "execution_count": 91
        }
      ]
    },
    {
      "cell_type": "code",
      "metadata": {
        "id": "9N-sS_DcEQAN"
      },
      "source": [
        "#Scale the data\n",
        "scaler = MinMaxScaler(feature_range=(0,1))\n",
        "scaled_data = scaler.fit_transform(dataset)\n"
      ],
      "execution_count": null,
      "outputs": []
    },
    {
      "cell_type": "code",
      "metadata": {
        "colab": {
          "base_uri": "https://localhost:8080/"
        },
        "id": "xwyeL9aaFJeW",
        "outputId": "3ac129f7-82f3-4afc-c974-69154c884ca6"
      },
      "source": [
        "#Create the training dataset and the scaled training dataset\n",
        "train_data = scaled_data[0:training_data_length, : ]\n",
        "#Split the data x_train and y_train datasets\n",
        "x_train = []\n",
        "y_train = []\n",
        "\n",
        "for i in range(100, len(train_data)):\n",
        "  x_train.append(train_data[i - 100:i, 0])\n",
        "  y_train.append(train_data[i, 0])\n",
        "  if i <= 101:\n",
        "    print(x_train)\n",
        "    print(y_train)\n",
        "    print()"
      ],
      "execution_count": null,
      "outputs": [
        {
          "output_type": "stream",
          "name": "stdout",
          "text": [
            "[array([0.8299758 , 0.84967912, 0.84370161, 0.8669472 , 0.94443225,\n",
            "       0.92605718, 0.85122864, 0.88731465, 0.84392322, 0.85787029,\n",
            "       0.86384782, 0.845694  , 0.79853905, 0.80274525, 0.81470011,\n",
            "       0.75647569, 0.706221  , 0.75514726, 0.73610805, 0.76621655,\n",
            "       0.81248629, 0.84414447, 0.82267002, 0.78724832, 0.81624981,\n",
            "       0.80473781, 0.73145897, 0.75049818, 0.72858102, 0.79765348,\n",
            "       0.75470456, 0.75071961, 0.7744079 , 0.81934919, 0.78968357,\n",
            "       0.78060666, 0.8018597 , 0.81381454, 0.80827989, 0.79610378,\n",
            "       0.80673021, 0.79322565, 0.7617889 , 0.82488383, 0.80960834,\n",
            "       0.84746513, 0.87071071, 0.88421527, 0.93668362, 0.89041406,\n",
            "       0.84790799, 0.77064438, 0.85477091, 0.84923626, 0.78503449,\n",
            "       0.76754498, 0.77307963, 0.82532672, 0.79654649, 0.78658419,\n",
            "       0.78968357, 0.85477091, 0.85078612, 0.88222287, 0.87956635,\n",
            "       0.87934476, 0.90878911, 0.93424835, 0.86960372, 0.92317906,\n",
            "       0.91742316, 0.88421527, 0.88997117, 0.8771311 , 0.88067301,\n",
            "       0.86384782, 0.84812926, 0.82931166, 0.82089889, 0.85322138,\n",
            "       0.84680099, 0.81536424, 0.8098296 , 0.82488383, 0.81824237,\n",
            "       0.83108262, 0.80274525, 0.82510529, 0.81226486, 0.83617458,\n",
            "       0.82267002, 0.80606608, 0.75691839, 0.77684314, 0.80274525,\n",
            "       0.79920316, 0.78946214, 0.78259922, 0.71352678, 0.65818031])]\n",
            "[0.7292451567244886]\n",
            "\n",
            "[array([0.8299758 , 0.84967912, 0.84370161, 0.8669472 , 0.94443225,\n",
            "       0.92605718, 0.85122864, 0.88731465, 0.84392322, 0.85787029,\n",
            "       0.86384782, 0.845694  , 0.79853905, 0.80274525, 0.81470011,\n",
            "       0.75647569, 0.706221  , 0.75514726, 0.73610805, 0.76621655,\n",
            "       0.81248629, 0.84414447, 0.82267002, 0.78724832, 0.81624981,\n",
            "       0.80473781, 0.73145897, 0.75049818, 0.72858102, 0.79765348,\n",
            "       0.75470456, 0.75071961, 0.7744079 , 0.81934919, 0.78968357,\n",
            "       0.78060666, 0.8018597 , 0.81381454, 0.80827989, 0.79610378,\n",
            "       0.80673021, 0.79322565, 0.7617889 , 0.82488383, 0.80960834,\n",
            "       0.84746513, 0.87071071, 0.88421527, 0.93668362, 0.89041406,\n",
            "       0.84790799, 0.77064438, 0.85477091, 0.84923626, 0.78503449,\n",
            "       0.76754498, 0.77307963, 0.82532672, 0.79654649, 0.78658419,\n",
            "       0.78968357, 0.85477091, 0.85078612, 0.88222287, 0.87956635,\n",
            "       0.87934476, 0.90878911, 0.93424835, 0.86960372, 0.92317906,\n",
            "       0.91742316, 0.88421527, 0.88997117, 0.8771311 , 0.88067301,\n",
            "       0.86384782, 0.84812926, 0.82931166, 0.82089889, 0.85322138,\n",
            "       0.84680099, 0.81536424, 0.8098296 , 0.82488383, 0.81824237,\n",
            "       0.83108262, 0.80274525, 0.82510529, 0.81226486, 0.83617458,\n",
            "       0.82267002, 0.80606608, 0.75691839, 0.77684314, 0.80274525,\n",
            "       0.79920316, 0.78946214, 0.78259922, 0.71352678, 0.65818031]), array([0.84967912, 0.84370161, 0.8669472 , 0.94443225, 0.92605718,\n",
            "       0.85122864, 0.88731465, 0.84392322, 0.85787029, 0.86384782,\n",
            "       0.845694  , 0.79853905, 0.80274525, 0.81470011, 0.75647569,\n",
            "       0.706221  , 0.75514726, 0.73610805, 0.76621655, 0.81248629,\n",
            "       0.84414447, 0.82267002, 0.78724832, 0.81624981, 0.80473781,\n",
            "       0.73145897, 0.75049818, 0.72858102, 0.79765348, 0.75470456,\n",
            "       0.75071961, 0.7744079 , 0.81934919, 0.78968357, 0.78060666,\n",
            "       0.8018597 , 0.81381454, 0.80827989, 0.79610378, 0.80673021,\n",
            "       0.79322565, 0.7617889 , 0.82488383, 0.80960834, 0.84746513,\n",
            "       0.87071071, 0.88421527, 0.93668362, 0.89041406, 0.84790799,\n",
            "       0.77064438, 0.85477091, 0.84923626, 0.78503449, 0.76754498,\n",
            "       0.77307963, 0.82532672, 0.79654649, 0.78658419, 0.78968357,\n",
            "       0.85477091, 0.85078612, 0.88222287, 0.87956635, 0.87934476,\n",
            "       0.90878911, 0.93424835, 0.86960372, 0.92317906, 0.91742316,\n",
            "       0.88421527, 0.88997117, 0.8771311 , 0.88067301, 0.86384782,\n",
            "       0.84812926, 0.82931166, 0.82089889, 0.85322138, 0.84680099,\n",
            "       0.81536424, 0.8098296 , 0.82488383, 0.81824237, 0.83108262,\n",
            "       0.80274525, 0.82510529, 0.81226486, 0.83617458, 0.82267002,\n",
            "       0.80606608, 0.75691839, 0.77684314, 0.80274525, 0.79920316,\n",
            "       0.78946214, 0.78259922, 0.71352678, 0.65818031, 0.72924516])]\n",
            "[0.7292451567244886, 0.7819351069722185]\n",
            "\n"
          ]
        }
      ]
    },
    {
      "cell_type": "code",
      "metadata": {
        "id": "Kzc6gGMUISli"
      },
      "source": [
        "#Convert the x_train and y_train to numpy arrays\n",
        "x_train, y_train = np.array(x_train), np.array(y_train)"
      ],
      "execution_count": null,
      "outputs": []
    },
    {
      "cell_type": "code",
      "metadata": {
        "colab": {
          "base_uri": "https://localhost:8080/"
        },
        "id": "KcdfvSCDIo3s",
        "outputId": "34e1fe50-a633-4c13-8167-73ccd7cec23c"
      },
      "source": [
        "#Reshape the data to 3 dimension for LSTM model\n",
        "x_train = np.reshape(x_train, (x_train.shape[0], x_train.shape[1], 1))\n",
        "x_train.shape"
      ],
      "execution_count": null,
      "outputs": [
        {
          "output_type": "execute_result",
          "data": {
            "text/plain": [
              "(305, 100, 1)"
            ]
          },
          "metadata": {},
          "execution_count": 95
        }
      ]
    },
    {
      "cell_type": "code",
      "metadata": {
        "id": "PPl4rxI6Nuic"
      },
      "source": [
        "#Build the LSTM Model\n",
        "model = Sequential()\n",
        "model.add(LSTM(50, return_sequences=True, input_shape=(x_train.shape[1], 1)))\n",
        "model.add(LSTM(50, return_sequences=False))\n",
        "model.add(Dense(25))\n",
        "model.add(Dense(1))"
      ],
      "execution_count": null,
      "outputs": []
    },
    {
      "cell_type": "code",
      "metadata": {
        "id": "yz8fi7r3RQyO"
      },
      "source": [
        "#Compile the model with optimizer and loss function\n",
        "model.compile(optimizer='adam', loss='mean_squared_error')\n"
      ],
      "execution_count": null,
      "outputs": []
    },
    {
      "cell_type": "code",
      "metadata": {
        "colab": {
          "base_uri": "https://localhost:8080/",
          "height": 182
        },
        "id": "w4znJqf4R5GN",
        "outputId": "398f658b-d682-4aee-d3b7-dfce3d6e3960"
      },
      "source": [
        "#Train the model\n",
        "model.fit(x_train, y_train, batch_size=2, epochs=99)"
      ],
      "execution_count": 1,
      "outputs": [
        {
          "output_type": "error",
          "ename": "NameError",
          "evalue": "ignored",
          "traceback": [
            "\u001b[0;31m---------------------------------------------------------------------------\u001b[0m",
            "\u001b[0;31mNameError\u001b[0m                                 Traceback (most recent call last)",
            "\u001b[0;32m<ipython-input-1-0baab4d02d41>\u001b[0m in \u001b[0;36m<module>\u001b[0;34m()\u001b[0m\n\u001b[1;32m      1\u001b[0m \u001b[0;31m#Train the model\u001b[0m\u001b[0;34m\u001b[0m\u001b[0;34m\u001b[0m\u001b[0;34m\u001b[0m\u001b[0m\n\u001b[0;32m----> 2\u001b[0;31m \u001b[0mmodel\u001b[0m\u001b[0;34m.\u001b[0m\u001b[0mfit\u001b[0m\u001b[0;34m(\u001b[0m\u001b[0mx_train\u001b[0m\u001b[0;34m,\u001b[0m \u001b[0my_train\u001b[0m\u001b[0;34m,\u001b[0m \u001b[0mbatch_size\u001b[0m\u001b[0;34m=\u001b[0m\u001b[0;36m2\u001b[0m\u001b[0;34m,\u001b[0m \u001b[0mepochs\u001b[0m\u001b[0;34m=\u001b[0m\u001b[0;36m99\u001b[0m\u001b[0;34m)\u001b[0m\u001b[0;34m\u001b[0m\u001b[0;34m\u001b[0m\u001b[0m\n\u001b[0m",
            "\u001b[0;31mNameError\u001b[0m: name 'model' is not defined"
          ]
        }
      ]
    },
    {
      "cell_type": "code",
      "metadata": {
        "id": "Z2J5HYaeSjvg",
        "colab": {
          "base_uri": "https://localhost:8080/"
        },
        "outputId": "7b8a0ac9-793f-4ab1-8786-ce541188b1f5"
      },
      "source": [
        "#Create the testing dataset and a new array containing scaled values\n",
        "test_data = scaled_data[training_data_length - 100: , : ]\n",
        "#Create the datasets x_test and y_test\n",
        "x_test = []\n",
        "y_test = dataset[training_data_length : , : ]\n",
        "for i in range(100, len(test_data)):\n",
        "  x_test.append(test_data[i - 100: i, 0])\n",
        "\n",
        "len(test_data)"
      ],
      "execution_count": null,
      "outputs": [
        {
          "output_type": "execute_result",
          "data": {
            "text/plain": [
              "201"
            ]
          },
          "metadata": {},
          "execution_count": 68
        }
      ]
    },
    {
      "cell_type": "code",
      "metadata": {
        "id": "N40RfKGpTqwR"
      },
      "source": [
        "#Convert the x_test to a numpy array\n",
        "x_test = np.array(x_test)\n",
        "#Reshape the data\n",
        "x_test= np.reshape(x_test, (x_test.shape[0], x_test.shape[1], 1))"
      ],
      "execution_count": null,
      "outputs": []
    },
    {
      "cell_type": "code",
      "metadata": {
        "id": "U8nr5YKBViji"
      },
      "source": [
        "#Get the model's predicted price values\n",
        "predictions = model.predict(x_test)\n",
        "predictions = scaler.inverse_transform(predictions)"
      ],
      "execution_count": null,
      "outputs": []
    },
    {
      "cell_type": "code",
      "metadata": {
        "colab": {
          "base_uri": "https://localhost:8080/"
        },
        "id": "pq7auXZ7WVmo",
        "outputId": "76897b9d-87e4-4b5c-fc04-b6b11dae7438"
      },
      "source": [
        "#Get the mean squared error (RMSE)\n",
        "rmse = np.sqrt(np.mean(predictions - y_test) ** 2)\n",
        "rmse"
      ],
      "execution_count": null,
      "outputs": [
        {
          "output_type": "execute_result",
          "data": {
            "text/plain": [
              "1.8867136920443994"
            ]
          },
          "metadata": {},
          "execution_count": 43
        }
      ]
    },
    {
      "cell_type": "code",
      "metadata": {
        "colab": {
          "base_uri": "https://localhost:8080/",
          "height": 660
        },
        "id": "w3d0dIw3Y1Cp",
        "outputId": "47d8dba7-e681-4931-fa58-a12b4b2cfd8f"
      },
      "source": [
        "#Plot the data\n",
        "train = dt[:training_data_length]\n",
        "valid = dt[training_data_length:]\n",
        "valid['Predictions'] = predictions\n",
        "#Visualize the data\n",
        "plt.figure(figsize=(16, 8))\n",
        "plt.title('Model')\n",
        "plt.xlabel('Date', fontsize=18)\n",
        "plt.ylabel('Close Price USD ($)', fontsize=18)\n",
        "plt.plot(train['AAPL.Close'])\n",
        "plt.plot(valid[['AAPL.Close', 'Predictions']])\n",
        "plt.legend(['Train', 'Values', 'Predictions'], loc='lower right')\n",
        "plt.show() "
      ],
      "execution_count": null,
      "outputs": [
        {
          "output_type": "stream",
          "name": "stderr",
          "text": [
            "/usr/local/lib/python3.7/dist-packages/ipykernel_launcher.py:4: SettingWithCopyWarning:\n",
            "\n",
            "\n",
            "A value is trying to be set on a copy of a slice from a DataFrame.\n",
            "Try using .loc[row_indexer,col_indexer] = value instead\n",
            "\n",
            "See the caveats in the documentation: https://pandas.pydata.org/pandas-docs/stable/user_guide/indexing.html#returning-a-view-versus-a-copy\n",
            "\n"
          ]
        },
        {
          "output_type": "display_data",
          "data": {
            "image/png": "[encoded data removed]",
            "text/plain": [
              "<Figure size 1152x576 with 1 Axes>"
            ]
          },
          "metadata": {
            "needs_background": "light"
          }
        }
      ]
    },
    {
      "cell_type": "code",
      "metadata": {
        "colab": {
          "base_uri": "https://localhost:8080/",
          "height": 423
        },
        "id": "IeGnkEUkwTep",
        "outputId": "a3eb679c-8e5f-4560-95d5-0d55a0dd1057"
      },
      "source": [
        "valid"
      ],
      "execution_count": null,
      "outputs": [
        {
          "output_type": "execute_result",
          "data": {
            "text/html": [
              "\n",
              "  <div id=\"df-51525c21-6fd7-4894-bf91-c398d322aa39\">\n",
              "    <div class=\"colab-df-container\">\n",
              "      <div>\n",
              "<style scoped>\n",
              "    .dataframe tbody tr th:only-of-type {\n",
              "        vertical-align: middle;\n",
              "    }\n",
              "\n",
              "    .dataframe tbody tr th {\n",
              "        vertical-align: top;\n",
              "    }\n",
              "\n",
              "    .dataframe thead th {\n",
              "        text-align: right;\n",
              "    }\n",
              "</style>\n",
              "<table border=\"1\" class=\"dataframe\">\n",
              "  <thead>\n",
              "    <tr style=\"text-align: right;\">\n",
              "      <th></th>\n",
              "      <th>AAPL.Close</th>\n",
              "      <th>Predictions</th>\n",
              "    </tr>\n",
              "  </thead>\n",
              "  <tbody>\n",
              "    <tr>\n",
              "      <th>2016-09-23</th>\n",
              "      <td>112.709999</td>\n",
              "      <td>112.967430</td>\n",
              "    </tr>\n",
              "    <tr>\n",
              "      <th>2016-09-26</th>\n",
              "      <td>112.879997</td>\n",
              "      <td>113.138672</td>\n",
              "    </tr>\n",
              "    <tr>\n",
              "      <th>2016-09-27</th>\n",
              "      <td>113.089996</td>\n",
              "      <td>113.104256</td>\n",
              "    </tr>\n",
              "    <tr>\n",
              "      <th>2016-09-28</th>\n",
              "      <td>113.949997</td>\n",
              "      <td>112.978371</td>\n",
              "    </tr>\n",
              "    <tr>\n",
              "      <th>2016-09-29</th>\n",
              "      <td>112.180000</td>\n",
              "      <td>112.917488</td>\n",
              "    </tr>\n",
              "    <tr>\n",
              "      <th>...</th>\n",
              "      <td>...</td>\n",
              "      <td>...</td>\n",
              "    </tr>\n",
              "    <tr>\n",
              "      <th>2017-02-10</th>\n",
              "      <td>132.119995</td>\n",
              "      <td>128.008835</td>\n",
              "    </tr>\n",
              "    <tr>\n",
              "      <th>2017-02-13</th>\n",
              "      <td>133.289993</td>\n",
              "      <td>128.694031</td>\n",
              "    </tr>\n",
              "    <tr>\n",
              "      <th>2017-02-14</th>\n",
              "      <td>135.020004</td>\n",
              "      <td>129.298264</td>\n",
              "    </tr>\n",
              "    <tr>\n",
              "      <th>2017-02-15</th>\n",
              "      <td>135.509995</td>\n",
              "      <td>129.983124</td>\n",
              "    </tr>\n",
              "    <tr>\n",
              "      <th>2017-02-16</th>\n",
              "      <td>135.350006</td>\n",
              "      <td>130.650146</td>\n",
              "    </tr>\n",
              "  </tbody>\n",
              "</table>\n",
              "<p>101 rows × 2 columns</p>\n",
              "</div>\n",
              "      <button class=\"colab-df-convert\" onclick=\"convertToInteractive('df-51525c21-6fd7-4894-bf91-c398d322aa39')\"\n",
              "              title=\"Convert this dataframe to an interactive table.\"\n",
              "              style=\"display:none;\">\n",
              "        \n",
              "  <svg xmlns=\"http://www.w3.org/2000/svg\" height=\"24px\"viewBox=\"0 0 24 24\"\n",
              "       width=\"24px\">\n",
              "    <path d=\"M0 0h24v24H0V0z\" fill=\"none\"/>\n",
              "    <path d=\"M18.56 5.44l.94 2.06.94-2.06 2.06-.94-2.06-.94-.94-2.06-.94 2.06-2.06.94zm-11 1L8.5 8.5l.94-2.06 2.06-.94-2.06-.94L8.5 2.5l-.94 2.06-2.06.94zm10 10l.94 2.06.94-2.06 2.06-.94-2.06-.94-.94-2.06-.94 2.06-2.06.94z\"/><path d=\"M17.41 7.96l-1.37-1.37c-.4-.4-.92-.59-1.43-.59-.52 0-1.04.2-1.43.59L10.3 9.45l-7.72 7.72c-.78.78-.78 2.05 0 2.83L4 21.41c.39.39.9.59 1.41.59.51 0 1.02-.2 1.41-.59l7.78-7.78 2.81-2.81c.8-.78.8-2.07 0-2.86zM5.41 20L4 18.59l7.72-7.72 1.47 1.35L5.41 20z\"/>\n",
              "  </svg>\n",
              "      </button>\n",
              "      \n",
              "  <style>\n",
              "    .colab-df-container {\n",
              "      display:flex;\n",
              "      flex-wrap:wrap;\n",
              "      gap: 12px;\n",
              "    }\n",
              "\n",
              "    .colab-df-convert {\n",
              "      background-color: #E8F0FE;\n",
              "      border: none;\n",
              "      border-radius: 50%;\n",
              "      cursor: pointer;\n",
              "      display: none;\n",
              "      fill: #1967D2;\n",
              "      height: 32px;\n",
              "      padding: 0 0 0 0;\n",
              "      width: 32px;\n",
              "    }\n",
              "\n",
              "    .colab-df-convert:hover {\n",
              "      background-color: #E2EBFA;\n",
              "      box-shadow: 0px 1px 2px rgba(60, 64, 67, 0.3), 0px 1px 3px 1px rgba(60, 64, 67, 0.15);\n",
              "      fill: #174EA6;\n",
              "    }\n",
              "\n",
              "    [theme=dark] .colab-df-convert {\n",
              "      background-color: #3B4455;\n",
              "      fill: #D2E3FC;\n",
              "    }\n",
              "\n",
              "    [theme=dark] .colab-df-convert:hover {\n",
              "      background-color: #434B5C;\n",
              "      box-shadow: 0px 1px 3px 1px rgba(0, 0, 0, 0.15);\n",
              "      filter: drop-shadow(0px 1px 2px rgba(0, 0, 0, 0.3));\n",
              "      fill: #FFFFFF;\n",
              "    }\n",
              "  </style>\n",
              "\n",
              "      <script>\n",
              "        const buttonEl =\n",
              "          document.querySelector('#df-51525c21-6fd7-4894-bf91-c398d322aa39 button.colab-df-convert');\n",
              "        buttonEl.style.display =\n",
              "          google.colab.kernel.accessAllowed ? 'block' : 'none';\n",
              "\n",
              "        async function convertToInteractive(key) {\n",
              "          const element = document.querySelector('#df-51525c21-6fd7-4894-bf91-c398d322aa39');\n",
              "          const dataTable =\n",
              "            await google.colab.kernel.invokeFunction('convertToInteractive',\n",
              "                                                     [key], {});\n",
              "          if (!dataTable) return;\n",
              "\n",
              "          const docLinkHtml = 'Like what you see? Visit the ' +\n",
              "            '<a target=\"_blank\" href=https://colab.research.google.com/notebooks/data_table.ipynb>data table notebook</a>'\n",
              "            + ' to learn more about interactive tables.';\n",
              "          element.innerHTML = '';\n",
              "          dataTable['output_type'] = 'display_data';\n",
              "          await google.colab.output.renderOutput(dataTable, element);\n",
              "          const docLink = document.createElement('div');\n",
              "          docLink.innerHTML = docLinkHtml;\n",
              "          element.appendChild(docLink);\n",
              "        }\n",
              "      </script>\n",
              "    </div>\n",
              "  </div>\n",
              "  "
            ],
            "text/plain": [
              "            AAPL.Close  Predictions\n",
              "2016-09-23  112.709999   112.967430\n",
              "2016-09-26  112.879997   113.138672\n",
              "2016-09-27  113.089996   113.104256\n",
              "2016-09-28  113.949997   112.978371\n",
              "2016-09-29  112.180000   112.917488\n",
              "...                ...          ...\n",
              "2017-02-10  132.119995   128.008835\n",
              "2017-02-13  133.289993   128.694031\n",
              "2017-02-14  135.020004   129.298264\n",
              "2017-02-15  135.509995   129.983124\n",
              "2017-02-16  135.350006   130.650146\n",
              "\n",
              "[101 rows x 2 columns]"
            ]
          },
          "metadata": {},
          "execution_count": 45
        }
      ]
    },
    {
      "cell_type": "code",
      "metadata": {
        "id": "KFxk_0ELxPna",
        "colab": {
          "base_uri": "https://localhost:8080/"
        },
        "outputId": "d0cc7213-6119-429a-be9b-3d100ee39423"
      },
      "source": [
        " len(test_data)"
      ],
      "execution_count": null,
      "outputs": [
        {
          "output_type": "execute_result",
          "data": {
            "text/plain": [
              "201"
            ]
          },
          "metadata": {},
          "execution_count": 69
        }
      ]
    },
    {
      "cell_type": "code",
      "source": [
        "x_input = test_data[101:].reshape(1, -1)\n",
        "x_input.shape"
      ],
      "metadata": {
        "colab": {
          "base_uri": "https://localhost:8080/"
        },
        "id": "DxsxGnE7FR90",
        "outputId": "5b492dbc-667a-4578-aa81-3c12d86fe395"
      },
      "execution_count": null,
      "outputs": [
        {
          "output_type": "execute_result",
          "data": {
            "text/plain": [
              "(1, 100)"
            ]
          },
          "metadata": {},
          "execution_count": 70
        }
      ]
    },
    {
      "cell_type": "code",
      "source": [
        "temp_input = list(x_input)\n",
        "temp_input=temp_input[0].tolist()\n",
        "temp_input"
      ],
      "metadata": {
        "colab": {
          "base_uri": "https://localhost:8080/"
        },
        "id": "CR5xcD1dFqEl",
        "outputId": "ad9c8d58-b1d9-4b2d-a0e0-b9e60cdbf5d9"
      },
      "execution_count": null,
      "outputs": [
        {
          "output_type": "execute_result",
          "data": {
            "text/plain": [
              "[0.4990037967457117,\n",
              " 0.503652878097252,\n",
              " 0.5226920859573183,\n",
              " 0.48350685152771433,\n",
              " 0.5027674895454393,\n",
              " 0.49103390504834854,\n",
              " 0.5016604937272633,\n",
              " 0.5027674895454393,\n",
              " 0.5213638149516009,\n",
              " 0.5251273527812117,\n",
              " 0.5691832536901318,\n",
              " 0.5747179007021894,\n",
              " 0.5977418773022332,\n",
              " 0.5897721405749863,\n",
              " 0.6041620899748081,\n",
              " 0.602391135762478,\n",
              " 0.6006200044414434,\n",
              " 0.5928715429017388,\n",
              " 0.5915431169259047,\n",
              " 0.5813593664237184,\n",
              " 0.6046049724287132,\n",
              " 0.6178880809804754,\n",
              " 0.5589993482178293,\n",
              " 0.534425670454409,\n",
              " 0.5176002992605775,\n",
              " 0.5136153534118963,\n",
              " 0.46823118149725884,\n",
              " 0.47044499602490575,\n",
              " 0.4314812138915478,\n",
              " 0.40956387889227086,\n",
              " 0.44432163923669776,\n",
              " 0.4587115886365192,\n",
              " 0.45472662064924974,\n",
              " 0.38631847213456894,\n",
              " 0.40048714634684845,\n",
              " 0.3402701647170723,\n",
              " 0.37126423226177163,\n",
              " 0.4350232994249126,\n",
              " 0.43413773376439524,\n",
              " 0.43657300058828863,\n",
              " 0.47354455332177414,\n",
              " 0.47509425448515064,\n",
              " 0.46247525929765887,\n",
              " 0.47487282432749245,\n",
              " 0.4700023128182931,\n",
              " 0.4675670459943997,\n",
              " 0.446756728951887,\n",
              " 0.42395400540079686,\n",
              " 0.43303091505492386,\n",
              " 0.41554140835823317,\n",
              " 0.43413773376439524,\n",
              " 0.45804745313366046,\n",
              " 0.4821786026605843,\n",
              " 0.5226920859573183,\n",
              " 0.5083021365574969,\n",
              " 0.5501440458300655,\n",
              " 0.5501440458300655,\n",
              " 0.5640913120232742,\n",
              " 0.5674121223690971,\n",
              " 0.5822449320842358,\n",
              " 0.5891078501020113,\n",
              " 0.5915431169259047,\n",
              " 0.5744964705445312,\n",
              " 0.579588257241272,\n",
              " 0.5959709230899031,\n",
              " 0.5849016290657874,\n",
              " 0.5842374935629286,\n",
              " 0.5640913120232742,\n",
              " 0.5713970903563665,\n",
              " 0.5685189632171568,\n",
              " 0.5815808187199649,\n",
              " 0.6103610495984291,\n",
              " 0.6342705918589902,\n",
              " 0.6369272888405422,\n",
              " 0.6510959630528217,\n",
              " 0.6400266690287064,\n",
              " 0.6353775876771661,\n",
              " 0.6566306100648793,\n",
              " 0.6564091799072211,\n",
              " 0.6517600985556808,\n",
              " 0.6566306100648793,\n",
              " 0.658401741385914,\n",
              " 0.6559664745620206,\n",
              " 0.6982510891797893,\n",
              " 0.6995795151556234,\n",
              " 0.6998007903431653,\n",
              " 0.6927164421677316,\n",
              " 0.6865176596528149,\n",
              " 0.8503432554868997,\n",
              " 0.8454727439777008,\n",
              " 0.857649033819992,\n",
              " 0.8844365261110583,\n",
              " 0.9118885081223933,\n",
              " 0.9231790551954622,\n",
              " 0.9315918293467305,\n",
              " 0.9249501865164969,\n",
              " 0.9508522902557508,\n",
              " 0.9891522911036592,\n",
              " 1.0,\n",
              " 0.9964580694367515]"
            ]
          },
          "metadata": {},
          "execution_count": 71
        }
      ]
    },
    {
      "cell_type": "code",
      "source": [
        "# demonstrate prediction for next 10 days\n",
        "from numpy import array\n",
        "\n",
        "lst_output=[]\n",
        "n_steps=100\n",
        "i=0\n",
        "while(i<30):\n",
        "    \n",
        "    if(len(temp_input)>100):\n",
        "        #print(temp_input)\n",
        "        x_input=np.array(temp_input[1:])\n",
        "        print(\"{} day input {}\".format(i,x_input))\n",
        "        x_input=x_input.reshape(1,-1)\n",
        "        x_input = x_input.reshape((1, n_steps, 1))\n",
        "        #print(x_input)\n",
        "        yhat = model.predict(x_input, verbose=0)\n",
        "        print(\"{} day output {}\".format(i,yhat))\n",
        "        temp_input.extend(yhat[0].tolist())\n",
        "        temp_input=temp_input[1:]\n",
        "        #print(temp_input)\n",
        "        lst_output.extend(yhat.tolist())\n",
        "        i=i+1\n",
        "    else:\n",
        "        x_input = x_input.reshape((1, n_steps,1))\n",
        "        yhat = model.predict(x_input, verbose=0)\n",
        "        print(yhat[0])\n",
        "        temp_input.extend(yhat[0].tolist())\n",
        "        print(len(temp_input))\n",
        "        lst_output.extend(yhat.tolist())\n",
        "        i=i+1\n",
        "    \n",
        "\n",
        "print(lst_output)"
      ],
      "metadata": {
        "colab": {
          "base_uri": "https://localhost:8080/"
        },
        "id": "7_TJfCcjFxZ7",
        "outputId": "29c41d99-7134-4665-e29d-a4c47702fe0a"
      },
      "execution_count": null,
      "outputs": [
        {
          "output_type": "stream",
          "name": "stdout",
          "text": [
            "[0.90426147]\n",
            "101\n",
            "1 day input [0.50365288 0.52269209 0.48350685 0.50276749 0.49103391 0.50166049\n",
            " 0.50276749 0.52136381 0.52512735 0.56918325 0.5747179  0.59774188\n",
            " 0.58977214 0.60416209 0.60239114 0.60062    0.59287154 0.59154312\n",
            " 0.58135937 0.60460497 0.61788808 0.55899935 0.53442567 0.5176003\n",
            " 0.51361535 0.46823118 0.470445   0.43148121 0.40956388 0.44432164\n",
            " 0.45871159 0.45472662 0.38631847 0.40048715 0.34027016 0.37126423\n",
            " 0.4350233  0.43413773 0.436573   0.47354455 0.47509425 0.46247526\n",
            " 0.47487282 0.47000231 0.46756705 0.44675673 0.42395401 0.43303092\n",
            " 0.41554141 0.43413773 0.45804745 0.4821786  0.52269209 0.50830214\n",
            " 0.55014405 0.55014405 0.56409131 0.56741212 0.58224493 0.58910785\n",
            " 0.59154312 0.57449647 0.57958826 0.59597092 0.58490163 0.58423749\n",
            " 0.56409131 0.57139709 0.56851896 0.58158082 0.61036105 0.63427059\n",
            " 0.63692729 0.65109596 0.64002667 0.63537759 0.65663061 0.65640918\n",
            " 0.6517601  0.65663061 0.65840174 0.65596647 0.69825109 0.69957952\n",
            " 0.69980079 0.69271644 0.68651766 0.85034326 0.84547274 0.85764903\n",
            " 0.88443653 0.91188851 0.92317906 0.93159183 0.92495019 0.95085229\n",
            " 0.98915229 1.         0.99645807 0.90426147]\n",
            "1 day output [[0.9007791]]\n",
            "2 day input [0.52269209 0.48350685 0.50276749 0.49103391 0.50166049 0.50276749\n",
            " 0.52136381 0.52512735 0.56918325 0.5747179  0.59774188 0.58977214\n",
            " 0.60416209 0.60239114 0.60062    0.59287154 0.59154312 0.58135937\n",
            " 0.60460497 0.61788808 0.55899935 0.53442567 0.5176003  0.51361535\n",
            " 0.46823118 0.470445   0.43148121 0.40956388 0.44432164 0.45871159\n",
            " 0.45472662 0.38631847 0.40048715 0.34027016 0.37126423 0.4350233\n",
            " 0.43413773 0.436573   0.47354455 0.47509425 0.46247526 0.47487282\n",
            " 0.47000231 0.46756705 0.44675673 0.42395401 0.43303092 0.41554141\n",
            " 0.43413773 0.45804745 0.4821786  0.52269209 0.50830214 0.55014405\n",
            " 0.55014405 0.56409131 0.56741212 0.58224493 0.58910785 0.59154312\n",
            " 0.57449647 0.57958826 0.59597092 0.58490163 0.58423749 0.56409131\n",
            " 0.57139709 0.56851896 0.58158082 0.61036105 0.63427059 0.63692729\n",
            " 0.65109596 0.64002667 0.63537759 0.65663061 0.65640918 0.6517601\n",
            " 0.65663061 0.65840174 0.65596647 0.69825109 0.69957952 0.69980079\n",
            " 0.69271644 0.68651766 0.85034326 0.84547274 0.85764903 0.88443653\n",
            " 0.91188851 0.92317906 0.93159183 0.92495019 0.95085229 0.98915229\n",
            " 1.         0.99645807 0.90426147 0.90077913]\n",
            "2 day output [[0.89076734]]\n",
            "3 day input [0.48350685 0.50276749 0.49103391 0.50166049 0.50276749 0.52136381\n",
            " 0.52512735 0.56918325 0.5747179  0.59774188 0.58977214 0.60416209\n",
            " 0.60239114 0.60062    0.59287154 0.59154312 0.58135937 0.60460497\n",
            " 0.61788808 0.55899935 0.53442567 0.5176003  0.51361535 0.46823118\n",
            " 0.470445   0.43148121 0.40956388 0.44432164 0.45871159 0.45472662\n",
            " 0.38631847 0.40048715 0.34027016 0.37126423 0.4350233  0.43413773\n",
            " 0.436573   0.47354455 0.47509425 0.46247526 0.47487282 0.47000231\n",
            " 0.46756705 0.44675673 0.42395401 0.43303092 0.41554141 0.43413773\n",
            " 0.45804745 0.4821786  0.52269209 0.50830214 0.55014405 0.55014405\n",
            " 0.56409131 0.56741212 0.58224493 0.58910785 0.59154312 0.57449647\n",
            " 0.57958826 0.59597092 0.58490163 0.58423749 0.56409131 0.57139709\n",
            " 0.56851896 0.58158082 0.61036105 0.63427059 0.63692729 0.65109596\n",
            " 0.64002667 0.63537759 0.65663061 0.65640918 0.6517601  0.65663061\n",
            " 0.65840174 0.65596647 0.69825109 0.69957952 0.69980079 0.69271644\n",
            " 0.68651766 0.85034326 0.84547274 0.85764903 0.88443653 0.91188851\n",
            " 0.92317906 0.93159183 0.92495019 0.95085229 0.98915229 1.\n",
            " 0.99645807 0.90426147 0.90077913 0.89076734]\n",
            "3 day output [[0.87721086]]\n",
            "4 day input [0.50276749 0.49103391 0.50166049 0.50276749 0.52136381 0.52512735\n",
            " 0.56918325 0.5747179  0.59774188 0.58977214 0.60416209 0.60239114\n",
            " 0.60062    0.59287154 0.59154312 0.58135937 0.60460497 0.61788808\n",
            " 0.55899935 0.53442567 0.5176003  0.51361535 0.46823118 0.470445\n",
            " 0.43148121 0.40956388 0.44432164 0.45871159 0.45472662 0.38631847\n",
            " 0.40048715 0.34027016 0.37126423 0.4350233  0.43413773 0.436573\n",
            " 0.47354455 0.47509425 0.46247526 0.47487282 0.47000231 0.46756705\n",
            " 0.44675673 0.42395401 0.43303092 0.41554141 0.43413773 0.45804745\n",
            " 0.4821786  0.52269209 0.50830214 0.55014405 0.55014405 0.56409131\n",
            " 0.56741212 0.58224493 0.58910785 0.59154312 0.57449647 0.57958826\n",
            " 0.59597092 0.58490163 0.58423749 0.56409131 0.57139709 0.56851896\n",
            " 0.58158082 0.61036105 0.63427059 0.63692729 0.65109596 0.64002667\n",
            " 0.63537759 0.65663061 0.65640918 0.6517601  0.65663061 0.65840174\n",
            " 0.65596647 0.69825109 0.69957952 0.69980079 0.69271644 0.68651766\n",
            " 0.85034326 0.84547274 0.85764903 0.88443653 0.91188851 0.92317906\n",
            " 0.93159183 0.92495019 0.95085229 0.98915229 1.         0.99645807\n",
            " 0.90426147 0.90077913 0.89076734 0.87721086]\n",
            "4 day output [[0.8618019]]\n",
            "5 day input [0.49103391 0.50166049 0.50276749 0.52136381 0.52512735 0.56918325\n",
            " 0.5747179  0.59774188 0.58977214 0.60416209 0.60239114 0.60062\n",
            " 0.59287154 0.59154312 0.58135937 0.60460497 0.61788808 0.55899935\n",
            " 0.53442567 0.5176003  0.51361535 0.46823118 0.470445   0.43148121\n",
            " 0.40956388 0.44432164 0.45871159 0.45472662 0.38631847 0.40048715\n",
            " 0.34027016 0.37126423 0.4350233  0.43413773 0.436573   0.47354455\n",
            " 0.47509425 0.46247526 0.47487282 0.47000231 0.46756705 0.44675673\n",
            " 0.42395401 0.43303092 0.41554141 0.43413773 0.45804745 0.4821786\n",
            " 0.52269209 0.50830214 0.55014405 0.55014405 0.56409131 0.56741212\n",
            " 0.58224493 0.58910785 0.59154312 0.57449647 0.57958826 0.59597092\n",
            " 0.58490163 0.58423749 0.56409131 0.57139709 0.56851896 0.58158082\n",
            " 0.61036105 0.63427059 0.63692729 0.65109596 0.64002667 0.63537759\n",
            " 0.65663061 0.65640918 0.6517601  0.65663061 0.65840174 0.65596647\n",
            " 0.69825109 0.69957952 0.69980079 0.69271644 0.68651766 0.85034326\n",
            " 0.84547274 0.85764903 0.88443653 0.91188851 0.92317906 0.93159183\n",
            " 0.92495019 0.95085229 0.98915229 1.         0.99645807 0.90426147\n",
            " 0.90077913 0.89076734 0.87721086 0.86180192]\n",
            "5 day output [[0.84551305]]\n",
            "6 day input [0.50166049 0.50276749 0.52136381 0.52512735 0.56918325 0.5747179\n",
            " 0.59774188 0.58977214 0.60416209 0.60239114 0.60062    0.59287154\n",
            " 0.59154312 0.58135937 0.60460497 0.61788808 0.55899935 0.53442567\n",
            " 0.5176003  0.51361535 0.46823118 0.470445   0.43148121 0.40956388\n",
            " 0.44432164 0.45871159 0.45472662 0.38631847 0.40048715 0.34027016\n",
            " 0.37126423 0.4350233  0.43413773 0.436573   0.47354455 0.47509425\n",
            " 0.46247526 0.47487282 0.47000231 0.46756705 0.44675673 0.42395401\n",
            " 0.43303092 0.41554141 0.43413773 0.45804745 0.4821786  0.52269209\n",
            " 0.50830214 0.55014405 0.55014405 0.56409131 0.56741212 0.58224493\n",
            " 0.58910785 0.59154312 0.57449647 0.57958826 0.59597092 0.58490163\n",
            " 0.58423749 0.56409131 0.57139709 0.56851896 0.58158082 0.61036105\n",
            " 0.63427059 0.63692729 0.65109596 0.64002667 0.63537759 0.65663061\n",
            " 0.65640918 0.6517601  0.65663061 0.65840174 0.65596647 0.69825109\n",
            " 0.69957952 0.69980079 0.69271644 0.68651766 0.85034326 0.84547274\n",
            " 0.85764903 0.88443653 0.91188851 0.92317906 0.93159183 0.92495019\n",
            " 0.95085229 0.98915229 1.         0.99645807 0.90426147 0.90077913\n",
            " 0.89076734 0.87721086 0.86180192 0.84551305]\n",
            "6 day output [[0.8289218]]\n",
            "7 day input [0.50276749 0.52136381 0.52512735 0.56918325 0.5747179  0.59774188\n",
            " 0.58977214 0.60416209 0.60239114 0.60062    0.59287154 0.59154312\n",
            " 0.58135937 0.60460497 0.61788808 0.55899935 0.53442567 0.5176003\n",
            " 0.51361535 0.46823118 0.470445   0.43148121 0.40956388 0.44432164\n",
            " 0.45871159 0.45472662 0.38631847 0.40048715 0.34027016 0.37126423\n",
            " 0.4350233  0.43413773 0.436573   0.47354455 0.47509425 0.46247526\n",
            " 0.47487282 0.47000231 0.46756705 0.44675673 0.42395401 0.43303092\n",
            " 0.41554141 0.43413773 0.45804745 0.4821786  0.52269209 0.50830214\n",
            " 0.55014405 0.55014405 0.56409131 0.56741212 0.58224493 0.58910785\n",
            " 0.59154312 0.57449647 0.57958826 0.59597092 0.58490163 0.58423749\n",
            " 0.56409131 0.57139709 0.56851896 0.58158082 0.61036105 0.63427059\n",
            " 0.63692729 0.65109596 0.64002667 0.63537759 0.65663061 0.65640918\n",
            " 0.6517601  0.65663061 0.65840174 0.65596647 0.69825109 0.69957952\n",
            " 0.69980079 0.69271644 0.68651766 0.85034326 0.84547274 0.85764903\n",
            " 0.88443653 0.91188851 0.92317906 0.93159183 0.92495019 0.95085229\n",
            " 0.98915229 1.         0.99645807 0.90426147 0.90077913 0.89076734\n",
            " 0.87721086 0.86180192 0.84551305 0.82892179]\n",
            "7 day output [[0.81238145]]\n",
            "8 day input [0.52136381 0.52512735 0.56918325 0.5747179  0.59774188 0.58977214\n",
            " 0.60416209 0.60239114 0.60062    0.59287154 0.59154312 0.58135937\n",
            " 0.60460497 0.61788808 0.55899935 0.53442567 0.5176003  0.51361535\n",
            " 0.46823118 0.470445   0.43148121 0.40956388 0.44432164 0.45871159\n",
            " 0.45472662 0.38631847 0.40048715 0.34027016 0.37126423 0.4350233\n",
            " 0.43413773 0.436573   0.47354455 0.47509425 0.46247526 0.47487282\n",
            " 0.47000231 0.46756705 0.44675673 0.42395401 0.43303092 0.41554141\n",
            " 0.43413773 0.45804745 0.4821786  0.52269209 0.50830214 0.55014405\n",
            " 0.55014405 0.56409131 0.56741212 0.58224493 0.58910785 0.59154312\n",
            " 0.57449647 0.57958826 0.59597092 0.58490163 0.58423749 0.56409131\n",
            " 0.57139709 0.56851896 0.58158082 0.61036105 0.63427059 0.63692729\n",
            " 0.65109596 0.64002667 0.63537759 0.65663061 0.65640918 0.6517601\n",
            " 0.65663061 0.65840174 0.65596647 0.69825109 0.69957952 0.69980079\n",
            " 0.69271644 0.68651766 0.85034326 0.84547274 0.85764903 0.88443653\n",
            " 0.91188851 0.92317906 0.93159183 0.92495019 0.95085229 0.98915229\n",
            " 1.         0.99645807 0.90426147 0.90077913 0.89076734 0.87721086\n",
            " 0.86180192 0.84551305 0.82892179 0.81238145]\n",
            "8 day output [[0.7961123]]\n",
            "9 day input [0.52512735 0.56918325 0.5747179  0.59774188 0.58977214 0.60416209\n",
            " 0.60239114 0.60062    0.59287154 0.59154312 0.58135937 0.60460497\n",
            " 0.61788808 0.55899935 0.53442567 0.5176003  0.51361535 0.46823118\n",
            " 0.470445   0.43148121 0.40956388 0.44432164 0.45871159 0.45472662\n",
            " 0.38631847 0.40048715 0.34027016 0.37126423 0.4350233  0.43413773\n",
            " 0.436573   0.47354455 0.47509425 0.46247526 0.47487282 0.47000231\n",
            " 0.46756705 0.44675673 0.42395401 0.43303092 0.41554141 0.43413773\n",
            " 0.45804745 0.4821786  0.52269209 0.50830214 0.55014405 0.55014405\n",
            " 0.56409131 0.56741212 0.58224493 0.58910785 0.59154312 0.57449647\n",
            " 0.57958826 0.59597092 0.58490163 0.58423749 0.56409131 0.57139709\n",
            " 0.56851896 0.58158082 0.61036105 0.63427059 0.63692729 0.65109596\n",
            " 0.64002667 0.63537759 0.65663061 0.65640918 0.6517601  0.65663061\n",
            " 0.65840174 0.65596647 0.69825109 0.69957952 0.69980079 0.69271644\n",
            " 0.68651766 0.85034326 0.84547274 0.85764903 0.88443653 0.91188851\n",
            " 0.92317906 0.93159183 0.92495019 0.95085229 0.98915229 1.\n",
            " 0.99645807 0.90426147 0.90077913 0.89076734 0.87721086 0.86180192\n",
            " 0.84551305 0.82892179 0.81238145 0.7961123 ]\n",
            "9 day output [[0.78025216]]\n",
            "10 day input [0.56918325 0.5747179  0.59774188 0.58977214 0.60416209 0.60239114\n",
            " 0.60062    0.59287154 0.59154312 0.58135937 0.60460497 0.61788808\n",
            " 0.55899935 0.53442567 0.5176003  0.51361535 0.46823118 0.470445\n",
            " 0.43148121 0.40956388 0.44432164 0.45871159 0.45472662 0.38631847\n",
            " 0.40048715 0.34027016 0.37126423 0.4350233  0.43413773 0.436573\n",
            " 0.47354455 0.47509425 0.46247526 0.47487282 0.47000231 0.46756705\n",
            " 0.44675673 0.42395401 0.43303092 0.41554141 0.43413773 0.45804745\n",
            " 0.4821786  0.52269209 0.50830214 0.55014405 0.55014405 0.56409131\n",
            " 0.56741212 0.58224493 0.58910785 0.59154312 0.57449647 0.57958826\n",
            " 0.59597092 0.58490163 0.58423749 0.56409131 0.57139709 0.56851896\n",
            " 0.58158082 0.61036105 0.63427059 0.63692729 0.65109596 0.64002667\n",
            " 0.63537759 0.65663061 0.65640918 0.6517601  0.65663061 0.65840174\n",
            " 0.65596647 0.69825109 0.69957952 0.69980079 0.69271644 0.68651766\n",
            " 0.85034326 0.84547274 0.85764903 0.88443653 0.91188851 0.92317906\n",
            " 0.93159183 0.92495019 0.95085229 0.98915229 1.         0.99645807\n",
            " 0.90426147 0.90077913 0.89076734 0.87721086 0.86180192 0.84551305\n",
            " 0.82892179 0.81238145 0.7961123  0.78025216]\n",
            "10 day output [[0.76488566]]\n",
            "11 day input [0.5747179  0.59774188 0.58977214 0.60416209 0.60239114 0.60062\n",
            " 0.59287154 0.59154312 0.58135937 0.60460497 0.61788808 0.55899935\n",
            " 0.53442567 0.5176003  0.51361535 0.46823118 0.470445   0.43148121\n",
            " 0.40956388 0.44432164 0.45871159 0.45472662 0.38631847 0.40048715\n",
            " 0.34027016 0.37126423 0.4350233  0.43413773 0.436573   0.47354455\n",
            " 0.47509425 0.46247526 0.47487282 0.47000231 0.46756705 0.44675673\n",
            " 0.42395401 0.43303092 0.41554141 0.43413773 0.45804745 0.4821786\n",
            " 0.52269209 0.50830214 0.55014405 0.55014405 0.56409131 0.56741212\n",
            " 0.58224493 0.58910785 0.59154312 0.57449647 0.57958826 0.59597092\n",
            " 0.58490163 0.58423749 0.56409131 0.57139709 0.56851896 0.58158082\n",
            " 0.61036105 0.63427059 0.63692729 0.65109596 0.64002667 0.63537759\n",
            " 0.65663061 0.65640918 0.6517601  0.65663061 0.65840174 0.65596647\n",
            " 0.69825109 0.69957952 0.69980079 0.69271644 0.68651766 0.85034326\n",
            " 0.84547274 0.85764903 0.88443653 0.91188851 0.92317906 0.93159183\n",
            " 0.92495019 0.95085229 0.98915229 1.         0.99645807 0.90426147\n",
            " 0.90077913 0.89076734 0.87721086 0.86180192 0.84551305 0.82892179\n",
            " 0.81238145 0.7961123  0.78025216 0.76488566]\n",
            "11 day output [[0.7500602]]\n",
            "12 day input [0.59774188 0.58977214 0.60416209 0.60239114 0.60062    0.59287154\n",
            " 0.59154312 0.58135937 0.60460497 0.61788808 0.55899935 0.53442567\n",
            " 0.5176003  0.51361535 0.46823118 0.470445   0.43148121 0.40956388\n",
            " 0.44432164 0.45871159 0.45472662 0.38631847 0.40048715 0.34027016\n",
            " 0.37126423 0.4350233  0.43413773 0.436573   0.47354455 0.47509425\n",
            " 0.46247526 0.47487282 0.47000231 0.46756705 0.44675673 0.42395401\n",
            " 0.43303092 0.41554141 0.43413773 0.45804745 0.4821786  0.52269209\n",
            " 0.50830214 0.55014405 0.55014405 0.56409131 0.56741212 0.58224493\n",
            " 0.58910785 0.59154312 0.57449647 0.57958826 0.59597092 0.58490163\n",
            " 0.58423749 0.56409131 0.57139709 0.56851896 0.58158082 0.61036105\n",
            " 0.63427059 0.63692729 0.65109596 0.64002667 0.63537759 0.65663061\n",
            " 0.65640918 0.6517601  0.65663061 0.65840174 0.65596647 0.69825109\n",
            " 0.69957952 0.69980079 0.69271644 0.68651766 0.85034326 0.84547274\n",
            " 0.85764903 0.88443653 0.91188851 0.92317906 0.93159183 0.92495019\n",
            " 0.95085229 0.98915229 1.         0.99645807 0.90426147 0.90077913\n",
            " 0.89076734 0.87721086 0.86180192 0.84551305 0.82892179 0.81238145\n",
            " 0.7961123  0.78025216 0.76488566 0.7500602 ]\n",
            "12 day output [[0.73579884]]\n",
            "13 day input [0.58977214 0.60416209 0.60239114 0.60062    0.59287154 0.59154312\n",
            " 0.58135937 0.60460497 0.61788808 0.55899935 0.53442567 0.5176003\n",
            " 0.51361535 0.46823118 0.470445   0.43148121 0.40956388 0.44432164\n",
            " 0.45871159 0.45472662 0.38631847 0.40048715 0.34027016 0.37126423\n",
            " 0.4350233  0.43413773 0.436573   0.47354455 0.47509425 0.46247526\n",
            " 0.47487282 0.47000231 0.46756705 0.44675673 0.42395401 0.43303092\n",
            " 0.41554141 0.43413773 0.45804745 0.4821786  0.52269209 0.50830214\n",
            " 0.55014405 0.55014405 0.56409131 0.56741212 0.58224493 0.58910785\n",
            " 0.59154312 0.57449647 0.57958826 0.59597092 0.58490163 0.58423749\n",
            " 0.56409131 0.57139709 0.56851896 0.58158082 0.61036105 0.63427059\n",
            " 0.63692729 0.65109596 0.64002667 0.63537759 0.65663061 0.65640918\n",
            " 0.6517601  0.65663061 0.65840174 0.65596647 0.69825109 0.69957952\n",
            " 0.69980079 0.69271644 0.68651766 0.85034326 0.84547274 0.85764903\n",
            " 0.88443653 0.91188851 0.92317906 0.93159183 0.92495019 0.95085229\n",
            " 0.98915229 1.         0.99645807 0.90426147 0.90077913 0.89076734\n",
            " 0.87721086 0.86180192 0.84551305 0.82892179 0.81238145 0.7961123\n",
            " 0.78025216 0.76488566 0.7500602  0.73579884]\n",
            "13 day output [[0.722106]]\n",
            "14 day input [0.60416209 0.60239114 0.60062    0.59287154 0.59154312 0.58135937\n",
            " 0.60460497 0.61788808 0.55899935 0.53442567 0.5176003  0.51361535\n",
            " 0.46823118 0.470445   0.43148121 0.40956388 0.44432164 0.45871159\n",
            " 0.45472662 0.38631847 0.40048715 0.34027016 0.37126423 0.4350233\n",
            " 0.43413773 0.436573   0.47354455 0.47509425 0.46247526 0.47487282\n",
            " 0.47000231 0.46756705 0.44675673 0.42395401 0.43303092 0.41554141\n",
            " 0.43413773 0.45804745 0.4821786  0.52269209 0.50830214 0.55014405\n",
            " 0.55014405 0.56409131 0.56741212 0.58224493 0.58910785 0.59154312\n",
            " 0.57449647 0.57958826 0.59597092 0.58490163 0.58423749 0.56409131\n",
            " 0.57139709 0.56851896 0.58158082 0.61036105 0.63427059 0.63692729\n",
            " 0.65109596 0.64002667 0.63537759 0.65663061 0.65640918 0.6517601\n",
            " 0.65663061 0.65840174 0.65596647 0.69825109 0.69957952 0.69980079\n",
            " 0.69271644 0.68651766 0.85034326 0.84547274 0.85764903 0.88443653\n",
            " 0.91188851 0.92317906 0.93159183 0.92495019 0.95085229 0.98915229\n",
            " 1.         0.99645807 0.90426147 0.90077913 0.89076734 0.87721086\n",
            " 0.86180192 0.84551305 0.82892179 0.81238145 0.7961123  0.78025216\n",
            " 0.76488566 0.7500602  0.73579884 0.72210598]\n",
            "14 day output [[0.7089737]]\n",
            "15 day input [0.60239114 0.60062    0.59287154 0.59154312 0.58135937 0.60460497\n",
            " 0.61788808 0.55899935 0.53442567 0.5176003  0.51361535 0.46823118\n",
            " 0.470445   0.43148121 0.40956388 0.44432164 0.45871159 0.45472662\n",
            " 0.38631847 0.40048715 0.34027016 0.37126423 0.4350233  0.43413773\n",
            " 0.436573   0.47354455 0.47509425 0.46247526 0.47487282 0.47000231\n",
            " 0.46756705 0.44675673 0.42395401 0.43303092 0.41554141 0.43413773\n",
            " 0.45804745 0.4821786  0.52269209 0.50830214 0.55014405 0.55014405\n",
            " 0.56409131 0.56741212 0.58224493 0.58910785 0.59154312 0.57449647\n",
            " 0.57958826 0.59597092 0.58490163 0.58423749 0.56409131 0.57139709\n",
            " 0.56851896 0.58158082 0.61036105 0.63427059 0.63692729 0.65109596\n",
            " 0.64002667 0.63537759 0.65663061 0.65640918 0.6517601  0.65663061\n",
            " 0.65840174 0.65596647 0.69825109 0.69957952 0.69980079 0.69271644\n",
            " 0.68651766 0.85034326 0.84547274 0.85764903 0.88443653 0.91188851\n",
            " 0.92317906 0.93159183 0.92495019 0.95085229 0.98915229 1.\n",
            " 0.99645807 0.90426147 0.90077913 0.89076734 0.87721086 0.86180192\n",
            " 0.84551305 0.82892179 0.81238145 0.7961123  0.78025216 0.76488566\n",
            " 0.7500602  0.73579884 0.72210598 0.70897371]\n",
            "15 day output [[0.69638497]]\n",
            "16 day input [0.60062    0.59287154 0.59154312 0.58135937 0.60460497 0.61788808\n",
            " 0.55899935 0.53442567 0.5176003  0.51361535 0.46823118 0.470445\n",
            " 0.43148121 0.40956388 0.44432164 0.45871159 0.45472662 0.38631847\n",
            " 0.40048715 0.34027016 0.37126423 0.4350233  0.43413773 0.436573\n",
            " 0.47354455 0.47509425 0.46247526 0.47487282 0.47000231 0.46756705\n",
            " 0.44675673 0.42395401 0.43303092 0.41554141 0.43413773 0.45804745\n",
            " 0.4821786  0.52269209 0.50830214 0.55014405 0.55014405 0.56409131\n",
            " 0.56741212 0.58224493 0.58910785 0.59154312 0.57449647 0.57958826\n",
            " 0.59597092 0.58490163 0.58423749 0.56409131 0.57139709 0.56851896\n",
            " 0.58158082 0.61036105 0.63427059 0.63692729 0.65109596 0.64002667\n",
            " 0.63537759 0.65663061 0.65640918 0.6517601  0.65663061 0.65840174\n",
            " 0.65596647 0.69825109 0.69957952 0.69980079 0.69271644 0.68651766\n",
            " 0.85034326 0.84547274 0.85764903 0.88443653 0.91188851 0.92317906\n",
            " 0.93159183 0.92495019 0.95085229 0.98915229 1.         0.99645807\n",
            " 0.90426147 0.90077913 0.89076734 0.87721086 0.86180192 0.84551305\n",
            " 0.82892179 0.81238145 0.7961123  0.78025216 0.76488566 0.7500602\n",
            " 0.73579884 0.72210598 0.70897371 0.69638497]\n",
            "16 day output [[0.684317]]\n",
            "17 day input [0.59287154 0.59154312 0.58135937 0.60460497 0.61788808 0.55899935\n",
            " 0.53442567 0.5176003  0.51361535 0.46823118 0.470445   0.43148121\n",
            " 0.40956388 0.44432164 0.45871159 0.45472662 0.38631847 0.40048715\n",
            " 0.34027016 0.37126423 0.4350233  0.43413773 0.436573   0.47354455\n",
            " 0.47509425 0.46247526 0.47487282 0.47000231 0.46756705 0.44675673\n",
            " 0.42395401 0.43303092 0.41554141 0.43413773 0.45804745 0.4821786\n",
            " 0.52269209 0.50830214 0.55014405 0.55014405 0.56409131 0.56741212\n",
            " 0.58224493 0.58910785 0.59154312 0.57449647 0.57958826 0.59597092\n",
            " 0.58490163 0.58423749 0.56409131 0.57139709 0.56851896 0.58158082\n",
            " 0.61036105 0.63427059 0.63692729 0.65109596 0.64002667 0.63537759\n",
            " 0.65663061 0.65640918 0.6517601  0.65663061 0.65840174 0.65596647\n",
            " 0.69825109 0.69957952 0.69980079 0.69271644 0.68651766 0.85034326\n",
            " 0.84547274 0.85764903 0.88443653 0.91188851 0.92317906 0.93159183\n",
            " 0.92495019 0.95085229 0.98915229 1.         0.99645807 0.90426147\n",
            " 0.90077913 0.89076734 0.87721086 0.86180192 0.84551305 0.82892179\n",
            " 0.81238145 0.7961123  0.78025216 0.76488566 0.7500602  0.73579884\n",
            " 0.72210598 0.70897371 0.69638497 0.68431699]\n",
            "17 day output [[0.6727428]]\n",
            "18 day input [0.59154312 0.58135937 0.60460497 0.61788808 0.55899935 0.53442567\n",
            " 0.5176003  0.51361535 0.46823118 0.470445   0.43148121 0.40956388\n",
            " 0.44432164 0.45871159 0.45472662 0.38631847 0.40048715 0.34027016\n",
            " 0.37126423 0.4350233  0.43413773 0.436573   0.47354455 0.47509425\n",
            " 0.46247526 0.47487282 0.47000231 0.46756705 0.44675673 0.42395401\n",
            " 0.43303092 0.41554141 0.43413773 0.45804745 0.4821786  0.52269209\n",
            " 0.50830214 0.55014405 0.55014405 0.56409131 0.56741212 0.58224493\n",
            " 0.58910785 0.59154312 0.57449647 0.57958826 0.59597092 0.58490163\n",
            " 0.58423749 0.56409131 0.57139709 0.56851896 0.58158082 0.61036105\n",
            " 0.63427059 0.63692729 0.65109596 0.64002667 0.63537759 0.65663061\n",
            " 0.65640918 0.6517601  0.65663061 0.65840174 0.65596647 0.69825109\n",
            " 0.69957952 0.69980079 0.69271644 0.68651766 0.85034326 0.84547274\n",
            " 0.85764903 0.88443653 0.91188851 0.92317906 0.93159183 0.92495019\n",
            " 0.95085229 0.98915229 1.         0.99645807 0.90426147 0.90077913\n",
            " 0.89076734 0.87721086 0.86180192 0.84551305 0.82892179 0.81238145\n",
            " 0.7961123  0.78025216 0.76488566 0.7500602  0.73579884 0.72210598\n",
            " 0.70897371 0.69638497 0.68431699 0.67274278]\n",
            "18 day output [[0.66163397]]\n",
            "19 day input [0.58135937 0.60460497 0.61788808 0.55899935 0.53442567 0.5176003\n",
            " 0.51361535 0.46823118 0.470445   0.43148121 0.40956388 0.44432164\n",
            " 0.45871159 0.45472662 0.38631847 0.40048715 0.34027016 0.37126423\n",
            " 0.4350233  0.43413773 0.436573   0.47354455 0.47509425 0.46247526\n",
            " 0.47487282 0.47000231 0.46756705 0.44675673 0.42395401 0.43303092\n",
            " 0.41554141 0.43413773 0.45804745 0.4821786  0.52269209 0.50830214\n",
            " 0.55014405 0.55014405 0.56409131 0.56741212 0.58224493 0.58910785\n",
            " 0.59154312 0.57449647 0.57958826 0.59597092 0.58490163 0.58423749\n",
            " 0.56409131 0.57139709 0.56851896 0.58158082 0.61036105 0.63427059\n",
            " 0.63692729 0.65109596 0.64002667 0.63537759 0.65663061 0.65640918\n",
            " 0.6517601  0.65663061 0.65840174 0.65596647 0.69825109 0.69957952\n",
            " 0.69980079 0.69271644 0.68651766 0.85034326 0.84547274 0.85764903\n",
            " 0.88443653 0.91188851 0.92317906 0.93159183 0.92495019 0.95085229\n",
            " 0.98915229 1.         0.99645807 0.90426147 0.90077913 0.89076734\n",
            " 0.87721086 0.86180192 0.84551305 0.82892179 0.81238145 0.7961123\n",
            " 0.78025216 0.76488566 0.7500602  0.73579884 0.72210598 0.70897371\n",
            " 0.69638497 0.68431699 0.67274278 0.66163397]\n",
            "19 day output [[0.65096116]]\n",
            "20 day input [0.60460497 0.61788808 0.55899935 0.53442567 0.5176003  0.51361535\n",
            " 0.46823118 0.470445   0.43148121 0.40956388 0.44432164 0.45871159\n",
            " 0.45472662 0.38631847 0.40048715 0.34027016 0.37126423 0.4350233\n",
            " 0.43413773 0.436573   0.47354455 0.47509425 0.46247526 0.47487282\n",
            " 0.47000231 0.46756705 0.44675673 0.42395401 0.43303092 0.41554141\n",
            " 0.43413773 0.45804745 0.4821786  0.52269209 0.50830214 0.55014405\n",
            " 0.55014405 0.56409131 0.56741212 0.58224493 0.58910785 0.59154312\n",
            " 0.57449647 0.57958826 0.59597092 0.58490163 0.58423749 0.56409131\n",
            " 0.57139709 0.56851896 0.58158082 0.61036105 0.63427059 0.63692729\n",
            " 0.65109596 0.64002667 0.63537759 0.65663061 0.65640918 0.6517601\n",
            " 0.65663061 0.65840174 0.65596647 0.69825109 0.69957952 0.69980079\n",
            " 0.69271644 0.68651766 0.85034326 0.84547274 0.85764903 0.88443653\n",
            " 0.91188851 0.92317906 0.93159183 0.92495019 0.95085229 0.98915229\n",
            " 1.         0.99645807 0.90426147 0.90077913 0.89076734 0.87721086\n",
            " 0.86180192 0.84551305 0.82892179 0.81238145 0.7961123  0.78025216\n",
            " 0.76488566 0.7500602  0.73579884 0.72210598 0.70897371 0.69638497\n",
            " 0.68431699 0.67274278 0.66163397 0.65096116]\n",
            "20 day output [[0.64069486]]\n",
            "21 day input [0.61788808 0.55899935 0.53442567 0.5176003  0.51361535 0.46823118\n",
            " 0.470445   0.43148121 0.40956388 0.44432164 0.45871159 0.45472662\n",
            " 0.38631847 0.40048715 0.34027016 0.37126423 0.4350233  0.43413773\n",
            " 0.436573   0.47354455 0.47509425 0.46247526 0.47487282 0.47000231\n",
            " 0.46756705 0.44675673 0.42395401 0.43303092 0.41554141 0.43413773\n",
            " 0.45804745 0.4821786  0.52269209 0.50830214 0.55014405 0.55014405\n",
            " 0.56409131 0.56741212 0.58224493 0.58910785 0.59154312 0.57449647\n",
            " 0.57958826 0.59597092 0.58490163 0.58423749 0.56409131 0.57139709\n",
            " 0.56851896 0.58158082 0.61036105 0.63427059 0.63692729 0.65109596\n",
            " 0.64002667 0.63537759 0.65663061 0.65640918 0.6517601  0.65663061\n",
            " 0.65840174 0.65596647 0.69825109 0.69957952 0.69980079 0.69271644\n",
            " 0.68651766 0.85034326 0.84547274 0.85764903 0.88443653 0.91188851\n",
            " 0.92317906 0.93159183 0.92495019 0.95085229 0.98915229 1.\n",
            " 0.99645807 0.90426147 0.90077913 0.89076734 0.87721086 0.86180192\n",
            " 0.84551305 0.82892179 0.81238145 0.7961123  0.78025216 0.76488566\n",
            " 0.7500602  0.73579884 0.72210598 0.70897371 0.69638497 0.68431699\n",
            " 0.67274278 0.66163397 0.65096116 0.64069486]\n",
            "21 day output [[0.630807]]\n",
            "22 day input [0.55899935 0.53442567 0.5176003  0.51361535 0.46823118 0.470445\n",
            " 0.43148121 0.40956388 0.44432164 0.45871159 0.45472662 0.38631847\n",
            " 0.40048715 0.34027016 0.37126423 0.4350233  0.43413773 0.436573\n",
            " 0.47354455 0.47509425 0.46247526 0.47487282 0.47000231 0.46756705\n",
            " 0.44675673 0.42395401 0.43303092 0.41554141 0.43413773 0.45804745\n",
            " 0.4821786  0.52269209 0.50830214 0.55014405 0.55014405 0.56409131\n",
            " 0.56741212 0.58224493 0.58910785 0.59154312 0.57449647 0.57958826\n",
            " 0.59597092 0.58490163 0.58423749 0.56409131 0.57139709 0.56851896\n",
            " 0.58158082 0.61036105 0.63427059 0.63692729 0.65109596 0.64002667\n",
            " 0.63537759 0.65663061 0.65640918 0.6517601  0.65663061 0.65840174\n",
            " 0.65596647 0.69825109 0.69957952 0.69980079 0.69271644 0.68651766\n",
            " 0.85034326 0.84547274 0.85764903 0.88443653 0.91188851 0.92317906\n",
            " 0.93159183 0.92495019 0.95085229 0.98915229 1.         0.99645807\n",
            " 0.90426147 0.90077913 0.89076734 0.87721086 0.86180192 0.84551305\n",
            " 0.82892179 0.81238145 0.7961123  0.78025216 0.76488566 0.7500602\n",
            " 0.73579884 0.72210598 0.70897371 0.69638497 0.68431699 0.67274278\n",
            " 0.66163397 0.65096116 0.64069486 0.63080698]\n",
            "22 day output [[0.6212709]]\n",
            "23 day input [0.53442567 0.5176003  0.51361535 0.46823118 0.470445   0.43148121\n",
            " 0.40956388 0.44432164 0.45871159 0.45472662 0.38631847 0.40048715\n",
            " 0.34027016 0.37126423 0.4350233  0.43413773 0.436573   0.47354455\n",
            " 0.47509425 0.46247526 0.47487282 0.47000231 0.46756705 0.44675673\n",
            " 0.42395401 0.43303092 0.41554141 0.43413773 0.45804745 0.4821786\n",
            " 0.52269209 0.50830214 0.55014405 0.55014405 0.56409131 0.56741212\n",
            " 0.58224493 0.58910785 0.59154312 0.57449647 0.57958826 0.59597092\n",
            " 0.58490163 0.58423749 0.56409131 0.57139709 0.56851896 0.58158082\n",
            " 0.61036105 0.63427059 0.63692729 0.65109596 0.64002667 0.63537759\n",
            " 0.65663061 0.65640918 0.6517601  0.65663061 0.65840174 0.65596647\n",
            " 0.69825109 0.69957952 0.69980079 0.69271644 0.68651766 0.85034326\n",
            " 0.84547274 0.85764903 0.88443653 0.91188851 0.92317906 0.93159183\n",
            " 0.92495019 0.95085229 0.98915229 1.         0.99645807 0.90426147\n",
            " 0.90077913 0.89076734 0.87721086 0.86180192 0.84551305 0.82892179\n",
            " 0.81238145 0.7961123  0.78025216 0.76488566 0.7500602  0.73579884\n",
            " 0.72210598 0.70897371 0.69638497 0.68431699 0.67274278 0.66163397\n",
            " 0.65096116 0.64069486 0.63080698 0.6212709 ]\n",
            "23 day output [[0.61206144]]\n",
            "24 day input [0.5176003  0.51361535 0.46823118 0.470445   0.43148121 0.40956388\n",
            " 0.44432164 0.45871159 0.45472662 0.38631847 0.40048715 0.34027016\n",
            " 0.37126423 0.4350233  0.43413773 0.436573   0.47354455 0.47509425\n",
            " 0.46247526 0.47487282 0.47000231 0.46756705 0.44675673 0.42395401\n",
            " 0.43303092 0.41554141 0.43413773 0.45804745 0.4821786  0.52269209\n",
            " 0.50830214 0.55014405 0.55014405 0.56409131 0.56741212 0.58224493\n",
            " 0.58910785 0.59154312 0.57449647 0.57958826 0.59597092 0.58490163\n",
            " 0.58423749 0.56409131 0.57139709 0.56851896 0.58158082 0.61036105\n",
            " 0.63427059 0.63692729 0.65109596 0.64002667 0.63537759 0.65663061\n",
            " 0.65640918 0.6517601  0.65663061 0.65840174 0.65596647 0.69825109\n",
            " 0.69957952 0.69980079 0.69271644 0.68651766 0.85034326 0.84547274\n",
            " 0.85764903 0.88443653 0.91188851 0.92317906 0.93159183 0.92495019\n",
            " 0.95085229 0.98915229 1.         0.99645807 0.90426147 0.90077913\n",
            " 0.89076734 0.87721086 0.86180192 0.84551305 0.82892179 0.81238145\n",
            " 0.7961123  0.78025216 0.76488566 0.7500602  0.73579884 0.72210598\n",
            " 0.70897371 0.69638497 0.68431699 0.67274278 0.66163397 0.65096116\n",
            " 0.64069486 0.63080698 0.6212709  0.61206144]\n",
            "24 day output [[0.6031555]]\n",
            "25 day input [0.51361535 0.46823118 0.470445   0.43148121 0.40956388 0.44432164\n",
            " 0.45871159 0.45472662 0.38631847 0.40048715 0.34027016 0.37126423\n",
            " 0.4350233  0.43413773 0.436573   0.47354455 0.47509425 0.46247526\n",
            " 0.47487282 0.47000231 0.46756705 0.44675673 0.42395401 0.43303092\n",
            " 0.41554141 0.43413773 0.45804745 0.4821786  0.52269209 0.50830214\n",
            " 0.55014405 0.55014405 0.56409131 0.56741212 0.58224493 0.58910785\n",
            " 0.59154312 0.57449647 0.57958826 0.59597092 0.58490163 0.58423749\n",
            " 0.56409131 0.57139709 0.56851896 0.58158082 0.61036105 0.63427059\n",
            " 0.63692729 0.65109596 0.64002667 0.63537759 0.65663061 0.65640918\n",
            " 0.6517601  0.65663061 0.65840174 0.65596647 0.69825109 0.69957952\n",
            " 0.69980079 0.69271644 0.68651766 0.85034326 0.84547274 0.85764903\n",
            " 0.88443653 0.91188851 0.92317906 0.93159183 0.92495019 0.95085229\n",
            " 0.98915229 1.         0.99645807 0.90426147 0.90077913 0.89076734\n",
            " 0.87721086 0.86180192 0.84551305 0.82892179 0.81238145 0.7961123\n",
            " 0.78025216 0.76488566 0.7500602  0.73579884 0.72210598 0.70897371\n",
            " 0.69638497 0.68431699 0.67274278 0.66163397 0.65096116 0.64069486\n",
            " 0.63080698 0.6212709  0.61206144 0.60315549]\n",
            "25 day output [[0.5945321]]\n",
            "26 day input [0.46823118 0.470445   0.43148121 0.40956388 0.44432164 0.45871159\n",
            " 0.45472662 0.38631847 0.40048715 0.34027016 0.37126423 0.4350233\n",
            " 0.43413773 0.436573   0.47354455 0.47509425 0.46247526 0.47487282\n",
            " 0.47000231 0.46756705 0.44675673 0.42395401 0.43303092 0.41554141\n",
            " 0.43413773 0.45804745 0.4821786  0.52269209 0.50830214 0.55014405\n",
            " 0.55014405 0.56409131 0.56741212 0.58224493 0.58910785 0.59154312\n",
            " 0.57449647 0.57958826 0.59597092 0.58490163 0.58423749 0.56409131\n",
            " 0.57139709 0.56851896 0.58158082 0.61036105 0.63427059 0.63692729\n",
            " 0.65109596 0.64002667 0.63537759 0.65663061 0.65640918 0.6517601\n",
            " 0.65663061 0.65840174 0.65596647 0.69825109 0.69957952 0.69980079\n",
            " 0.69271644 0.68651766 0.85034326 0.84547274 0.85764903 0.88443653\n",
            " 0.91188851 0.92317906 0.93159183 0.92495019 0.95085229 0.98915229\n",
            " 1.         0.99645807 0.90426147 0.90077913 0.89076734 0.87721086\n",
            " 0.86180192 0.84551305 0.82892179 0.81238145 0.7961123  0.78025216\n",
            " 0.76488566 0.7500602  0.73579884 0.72210598 0.70897371 0.69638497\n",
            " 0.68431699 0.67274278 0.66163397 0.65096116 0.64069486 0.63080698\n",
            " 0.6212709  0.61206144 0.60315549 0.59453207]\n",
            "26 day output [[0.5861723]]\n",
            "27 day input [0.470445   0.43148121 0.40956388 0.44432164 0.45871159 0.45472662\n",
            " 0.38631847 0.40048715 0.34027016 0.37126423 0.4350233  0.43413773\n",
            " 0.436573   0.47354455 0.47509425 0.46247526 0.47487282 0.47000231\n",
            " 0.46756705 0.44675673 0.42395401 0.43303092 0.41554141 0.43413773\n",
            " 0.45804745 0.4821786  0.52269209 0.50830214 0.55014405 0.55014405\n",
            " 0.56409131 0.56741212 0.58224493 0.58910785 0.59154312 0.57449647\n",
            " 0.57958826 0.59597092 0.58490163 0.58423749 0.56409131 0.57139709\n",
            " 0.56851896 0.58158082 0.61036105 0.63427059 0.63692729 0.65109596\n",
            " 0.64002667 0.63537759 0.65663061 0.65640918 0.6517601  0.65663061\n",
            " 0.65840174 0.65596647 0.69825109 0.69957952 0.69980079 0.69271644\n",
            " 0.68651766 0.85034326 0.84547274 0.85764903 0.88443653 0.91188851\n",
            " 0.92317906 0.93159183 0.92495019 0.95085229 0.98915229 1.\n",
            " 0.99645807 0.90426147 0.90077913 0.89076734 0.87721086 0.86180192\n",
            " 0.84551305 0.82892179 0.81238145 0.7961123  0.78025216 0.76488566\n",
            " 0.7500602  0.73579884 0.72210598 0.70897371 0.69638497 0.68431699\n",
            " 0.67274278 0.66163397 0.65096116 0.64069486 0.63080698 0.6212709\n",
            " 0.61206144 0.60315549 0.59453207 0.58617228]\n",
            "27 day output [[0.5780589]]\n",
            "28 day input [0.43148121 0.40956388 0.44432164 0.45871159 0.45472662 0.38631847\n",
            " 0.40048715 0.34027016 0.37126423 0.4350233  0.43413773 0.436573\n",
            " 0.47354455 0.47509425 0.46247526 0.47487282 0.47000231 0.46756705\n",
            " 0.44675673 0.42395401 0.43303092 0.41554141 0.43413773 0.45804745\n",
            " 0.4821786  0.52269209 0.50830214 0.55014405 0.55014405 0.56409131\n",
            " 0.56741212 0.58224493 0.58910785 0.59154312 0.57449647 0.57958826\n",
            " 0.59597092 0.58490163 0.58423749 0.56409131 0.57139709 0.56851896\n",
            " 0.58158082 0.61036105 0.63427059 0.63692729 0.65109596 0.64002667\n",
            " 0.63537759 0.65663061 0.65640918 0.6517601  0.65663061 0.65840174\n",
            " 0.65596647 0.69825109 0.69957952 0.69980079 0.69271644 0.68651766\n",
            " 0.85034326 0.84547274 0.85764903 0.88443653 0.91188851 0.92317906\n",
            " 0.93159183 0.92495019 0.95085229 0.98915229 1.         0.99645807\n",
            " 0.90426147 0.90077913 0.89076734 0.87721086 0.86180192 0.84551305\n",
            " 0.82892179 0.81238145 0.7961123  0.78025216 0.76488566 0.7500602\n",
            " 0.73579884 0.72210598 0.70897371 0.69638497 0.68431699 0.67274278\n",
            " 0.66163397 0.65096116 0.64069486 0.63080698 0.6212709  0.61206144\n",
            " 0.60315549 0.59453207 0.58617228 0.5780589 ]\n",
            "28 day output [[0.5701769]]\n",
            "29 day input [0.40956388 0.44432164 0.45871159 0.45472662 0.38631847 0.40048715\n",
            " 0.34027016 0.37126423 0.4350233  0.43413773 0.436573   0.47354455\n",
            " 0.47509425 0.46247526 0.47487282 0.47000231 0.46756705 0.44675673\n",
            " 0.42395401 0.43303092 0.41554141 0.43413773 0.45804745 0.4821786\n",
            " 0.52269209 0.50830214 0.55014405 0.55014405 0.56409131 0.56741212\n",
            " 0.58224493 0.58910785 0.59154312 0.57449647 0.57958826 0.59597092\n",
            " 0.58490163 0.58423749 0.56409131 0.57139709 0.56851896 0.58158082\n",
            " 0.61036105 0.63427059 0.63692729 0.65109596 0.64002667 0.63537759\n",
            " 0.65663061 0.65640918 0.6517601  0.65663061 0.65840174 0.65596647\n",
            " 0.69825109 0.69957952 0.69980079 0.69271644 0.68651766 0.85034326\n",
            " 0.84547274 0.85764903 0.88443653 0.91188851 0.92317906 0.93159183\n",
            " 0.92495019 0.95085229 0.98915229 1.         0.99645807 0.90426147\n",
            " 0.90077913 0.89076734 0.87721086 0.86180192 0.84551305 0.82892179\n",
            " 0.81238145 0.7961123  0.78025216 0.76488566 0.7500602  0.73579884\n",
            " 0.72210598 0.70897371 0.69638497 0.68431699 0.67274278 0.66163397\n",
            " 0.65096116 0.64069486 0.63080698 0.6212709  0.61206144 0.60315549\n",
            " 0.59453207 0.58617228 0.5780589  0.5701769 ]\n",
            "29 day output [[0.56251293]]\n",
            "[[0.9042614698410034], [0.900779128074646], [0.8907673358917236], [0.8772108554840088], [0.8618019223213196], [0.8455130457878113], [0.8289217948913574], [0.8123814463615417], [0.7961122989654541], [0.7802521586418152], [0.764885663986206], [0.7500602006912231], [0.7357988357543945], [0.7221059799194336], [0.7089737057685852], [0.6963849663734436], [0.6843169927597046], [0.6727427840232849], [0.6616339683532715], [0.65096116065979], [0.6406948566436768], [0.6308069825172424], [0.6212708950042725], [0.6120614409446716], [0.6031554937362671], [0.5945320725440979], [0.5861722826957703], [0.5780588984489441], [0.570176899433136], [0.5625129342079163]]\n"
          ]
        }
      ]
    },
    {
      "cell_type": "code",
      "source": [
        "day_new=np.arange(1,101)\n",
        "day_pred=np.arange(101,131)"
      ],
      "metadata": {
        "id": "5N0JbEDKJlIK"
      },
      "execution_count": null,
      "outputs": []
    },
    {
      "cell_type": "code",
      "source": [
        "df1 = df.reset_index()['AAPL.Close']"
      ],
      "metadata": {
        "id": "Pj9ECunjXh8R"
      },
      "execution_count": null,
      "outputs": []
    },
    {
      "cell_type": "code",
      "source": [
        "len(df1)"
      ],
      "metadata": {
        "colab": {
          "base_uri": "https://localhost:8080/"
        },
        "id": "thNKAvpcYl-g",
        "outputId": "04a18f23-a472-4ec6-b585-769f8e90bf4f"
      },
      "execution_count": null,
      "outputs": [
        {
          "output_type": "execute_result",
          "data": {
            "text/plain": [
              "506"
            ]
          },
          "metadata": {},
          "execution_count": 77
        }
      ]
    },
    {
      "cell_type": "code",
      "source": [
        "#Reshape data for 2D array instead 1D array\n",
        "df1=scaler.fit_transform(np.array(df1).reshape(-1,1))"
      ],
      "metadata": {
        "id": "ljKFfiEiaCFY"
      },
      "execution_count": null,
      "outputs": []
    },
    {
      "cell_type": "code",
      "source": [
        "plt.plot(day_new, scaler.inverse_transform(df1[406:]))\n",
        "plt.plot(day_pred,scaler.inverse_transform(lst_output))"
      ],
      "metadata": {
        "colab": {
          "base_uri": "https://localhost:8080/",
          "height": 282
        },
        "id": "Na_bqMHEYzMW",
        "outputId": "41b5286b-4c59-4a90-9e73-bc8f7a4e5945"
      },
      "execution_count": null,
      "outputs": [
        {
          "output_type": "execute_result",
          "data": {
            "text/plain": [
              "[<matplotlib.lines.Line2D at 0x7f59e39c5710>]"
            ]
          },
          "metadata": {},
          "execution_count": 82
        },
        {
          "output_type": "display_data",
          "data": {
            "image/png": "[encoded data removed]",
            "text/plain": [
              "<Figure size 432x288 with 1 Axes>"
            ]
          },
          "metadata": {
            "needs_background": "light"
          }
        }
      ]
    },
    {
      "cell_type": "code",
      "source": [
        "df3=df1.tolist()\n",
        "df3.extend(lst_output)\n",
        "plt.plot(df3[448:])"
      ],
      "metadata": {
        "colab": {
          "base_uri": "https://localhost:8080/",
          "height": 282
        },
        "id": "mkxWgJGdZZZZ",
        "outputId": "ad36aedf-4f66-48b8-da22-72661daf33cc"
      },
      "execution_count": null,
      "outputs": [
        {
          "output_type": "execute_result",
          "data": {
            "text/plain": [
              "[<matplotlib.lines.Line2D at 0x7f59e389c5d0>]"
            ]
          },
          "metadata": {},
          "execution_count": 84
        },
        {
          "output_type": "display_data",
          "data": {
            "image/png": "[encoded data removed]",
            "text/plain": [
              "<Figure size 432x288 with 1 Axes>"
            ]
          },
          "metadata": {
            "needs_background": "light"
          }
        }
      ]
    },
    {
      "cell_type": "code",
      "source": [
        "df3=scaler.inverse_transform(df3).tolist()\n",
        "plt.plot(df3)"
      ],
      "metadata": {
        "colab": {
          "base_uri": "https://localhost:8080/",
          "height": 282
        },
        "id": "ySz1_FL-apSC",
        "outputId": "818ff3b6-3860-41dd-ca11-4313ce4e86a8"
      },
      "execution_count": null,
      "outputs": [
        {
          "output_type": "execute_result",
          "data": {
            "text/plain": [
              "[<matplotlib.lines.Line2D at 0x7f59e3881cd0>]"
            ]
          },
          "metadata": {},
          "execution_count": 85
        },
        {
          "output_type": "display_data",
          "data": {
            "image/png": "[encoded data removed]",
            "text/plain": [
              "<Figure size 432x288 with 1 Axes>"
            ]
          },
          "metadata": {
            "needs_background": "light"
          }
        }
      ]
    }
  ]
}